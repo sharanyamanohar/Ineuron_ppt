{
 "cells": [
  {
   "cell_type": "markdown",
   "id": "6baf4cf6",
   "metadata": {},
   "source": [
    "## DSA (mock test-1)\n",
    "### Sharanya Manohar"
   ]
  },
  {
   "cell_type": "markdown",
   "id": "748b6121",
   "metadata": {},
   "source": [
    "Question-2\n",
    "\n",
    "First Unique Character in a String\n",
    "\n",
    "Given a string s, find the first non-repeating character in it and return its index. If it does not exist, return -1.\n",
    "\n",
    "Example 1:\n",
    "Input: s = \"leetcode\"\n",
    "Output: 0\n",
    "\n",
    "Example 2:\n",
    "Input: s = \"loveleetcode\"\n",
    "Output: 2\n",
    "\n",
    "Example 3:\n",
    "Input: s = \"aabb\"\n",
    "Output: -1\n",
    "\n",
    "Constraints:\n",
    "a. 1 <= s.length <= 10^5\n",
    "b. s consists of only lowercase English letters."
   ]
  },
  {
   "cell_type": "code",
   "execution_count": 7,
   "id": "2af5120d",
   "metadata": {},
   "outputs": [
    {
     "data": {
      "text/plain": [
       "2"
      ]
     },
     "execution_count": 7,
     "metadata": {},
     "output_type": "execute_result"
    }
   ],
   "source": [
    "def firstUniqChar(s):\n",
    "    char_map = {}\n",
    "\n",
    "    # hash map b\n",
    "    for char in s:\n",
    "        char_map[char] = char_map.get(char, 0) + 1\n",
    "\n",
    "    for i in range(len(s)):\n",
    "        if char_map[s[i]] == 1:\n",
    "            return i\n",
    "\n",
    "    return -1 \n",
    "s = \"loveleetcode\"\n",
    "firstUniqChar(s)"
   ]
  },
  {
   "cell_type": "code",
   "execution_count": 10,
   "id": "60d5fb1f",
   "metadata": {},
   "outputs": [
    {
     "data": {
      "text/plain": [
       "0"
      ]
     },
     "execution_count": 10,
     "metadata": {},
     "output_type": "execute_result"
    }
   ],
   "source": [
    "s = \"leetcode\"\n",
    "def firstUniqChar(s):\n",
    "    char_map = {}\n",
    "\n",
    "    # hash map b\n",
    "    for char in s:\n",
    "        char_map[char] = char_map.get(char, 0) + 1\n",
    "\n",
    "    for i in range(len(s)):\n",
    "        if char_map[s[i]] == 1:\n",
    "            return i\n",
    "\n",
    "    return -1 \n",
    "firstUniqChar(s)"
   ]
  },
  {
   "cell_type": "code",
   "execution_count": 11,
   "id": "d973fbaa",
   "metadata": {},
   "outputs": [
    {
     "data": {
      "text/plain": [
       "-1"
      ]
     },
     "execution_count": 11,
     "metadata": {},
     "output_type": "execute_result"
    }
   ],
   "source": [
    "s = \"aabb\"\n",
    "def firstUniqChar(s):\n",
    "    char_map = {}\n",
    "\n",
    "    # hash map b\n",
    "    for char in s:\n",
    "        char_map[char] = char_map.get(char, 0) + 1\n",
    "\n",
    "    for i in range(len(s)):\n",
    "        if char_map[s[i]] == 1:\n",
    "            return i\n",
    "\n",
    "    return -1 \n",
    "firstUniqChar(s)"
   ]
  }
 ],
 "metadata": {
  "kernelspec": {
   "display_name": "Python 3 (ipykernel)",
   "language": "python",
   "name": "python3"
  },
  "language_info": {
   "codemirror_mode": {
    "name": "ipython",
    "version": 3
   },
   "file_extension": ".py",
   "mimetype": "text/x-python",
   "name": "python",
   "nbconvert_exporter": "python",
   "pygments_lexer": "ipython3",
   "version": "3.9.12"
  }
 },
 "nbformat": 4,
 "nbformat_minor": 5
}
