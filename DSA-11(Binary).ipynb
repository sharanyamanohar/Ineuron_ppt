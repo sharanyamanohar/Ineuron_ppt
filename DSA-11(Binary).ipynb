{
 "cells": [
  {
   "cell_type": "markdown",
   "id": "83126062",
   "metadata": {},
   "source": [
    "## Sharanya Manohar\n",
    "### DSA-11(Binary)-Python"
   ]
  },
  {
   "cell_type": "markdown",
   "id": "2b43e38a",
   "metadata": {},
   "source": [
    "💡 **Question 1**\n",
    "\n",
    "Given a non-negative integer `x`, return *the square root of* `x` *rounded down to the nearest integer*. The returned integer should be **non-negative** as well.\n",
    "\n",
    "You **must not use** any built-in exponent function or operator.\n",
    "\n",
    "- For example, do not use `pow(x, 0.5)` in c++ or `x ** 0.5` in python."
   ]
  },
  {
   "cell_type": "code",
   "execution_count": 1,
   "id": "10644bec",
   "metadata": {},
   "outputs": [
    {
     "name": "stdout",
     "output_type": "stream",
     "text": [
      "4\n",
      "2\n",
      "0\n",
      "1\n"
     ]
    }
   ],
   "source": [
    "def sqrt(x):\n",
    "    if x == 0:\n",
    "        return 0\n",
    "\n",
    "    left, right = 1, x\n",
    "    while left <= right:\n",
    "        mid = (left + right) // 2\n",
    "        if mid * mid == x:\n",
    "            return mid\n",
    "        elif mid * mid < x:\n",
    "            left = mid + 1\n",
    "        else:\n",
    "            right = mid - 1\n",
    "\n",
    "    return right  # Return the floor value of the square root\n",
    "\n",
    "# Example usage:\n",
    "print(sqrt(16)) \n",
    "print(sqrt(8))   \n",
    "print(sqrt(0))   \n",
    "print(sqrt(1))  "
   ]
  },
  {
   "cell_type": "markdown",
   "id": "4c1ff452",
   "metadata": {},
   "source": [
    "💡 **Question 2**\n",
    "\n",
    "A peak element is an element that is strictly greater than its neighbors.\n",
    "\n",
    "Given a **0-indexed** integer array `nums`, find a peak element, and return its index. If the array contains multiple peaks, return the index to **any of the peaks**.\n",
    "\n",
    "You may imagine that `nums[-1] = nums[n] = -∞`. In other words, an element is always considered to be strictly greater than a neighbor that is outside the array.\n",
    "\n",
    "You must write an algorithm that runs in `O(log n)` time."
   ]
  },
  {
   "cell_type": "code",
   "execution_count": 2,
   "id": "5dc91d1a",
   "metadata": {},
   "outputs": [
    {
     "name": "stdout",
     "output_type": "stream",
     "text": [
      "2\n",
      "5\n"
     ]
    }
   ],
   "source": [
    "def findPeakElement(nums):\n",
    "    left, right = 0, len(nums) - 1\n",
    "\n",
    "    while left < right:\n",
    "        mid = (left + right) // 2\n",
    "\n",
    "        if nums[mid] < nums[mid + 1]:\n",
    "            left = mid + 1\n",
    "        else:\n",
    "            right = mid\n",
    "\n",
    "    return left\n",
    "\n",
    "# Example usage:\n",
    "nums = [1, 2, 3, 1]\n",
    "print(findPeakElement(nums))\n",
    "\n",
    "nums = [1, 2, 1, 3, 5, 6, 4]\n",
    "print(findPeakElement(nums)) "
   ]
  },
  {
   "cell_type": "markdown",
   "id": "963c3cc2",
   "metadata": {},
   "source": [
    "💡 **Question 3**\n",
    "\n",
    "****\n",
    "\n",
    "Given an array `nums` containing `n` distinct numbers in the range `[0, n]`, return *the only number in the range that is missing from the array.*"
   ]
  },
  {
   "cell_type": "code",
   "execution_count": 5,
   "id": "9ba5e4e5",
   "metadata": {},
   "outputs": [
    {
     "name": "stdout",
     "output_type": "stream",
     "text": [
      "2\n",
      "8\n"
     ]
    }
   ],
   "source": [
    "def missingNumber(nums):\n",
    "    n = len(nums)\n",
    "    expected_sum = n * (n + 1) // 2\n",
    "    actual_sum = sum(nums)\n",
    "    return expected_sum - actual_sum\n",
    "\n",
    "# Example usage:\n",
    "nums = [0, 1]\n",
    "print(missingNumber(nums)) \n",
    "\n",
    "nums = [9, 6, 4, 2, 3, 5, 7, 0, 1]\n",
    "print(missingNumber(nums)) "
   ]
  },
  {
   "cell_type": "markdown",
   "id": "df76c0f9",
   "metadata": {},
   "source": [
    "💡 **Question 4**\n",
    "\n",
    "Given an array of integers `nums` containing `n + 1` integers where each integer is in the range `[1, n]` inclusive.\n",
    "\n",
    "There is only **one repeated number** in `nums`, return *this repeated number*.\n",
    "\n",
    "You must solve the problem **without** modifying the array `nums` and uses only constant extra space."
   ]
  },
  {
   "cell_type": "code",
   "execution_count": 6,
   "id": "78ccf2a3",
   "metadata": {},
   "outputs": [
    {
     "name": "stdout",
     "output_type": "stream",
     "text": [
      "2\n",
      "3\n"
     ]
    }
   ],
   "source": [
    "def findDuplicate(nums):\n",
    "    \n",
    "    tortoise = nums[0]\n",
    "    hare = nums[0]\n",
    "    \n",
    "    while True:\n",
    "        tortoise = nums[tortoise]\n",
    "        hare = nums[nums[hare]]\n",
    "        if tortoise == hare:\n",
    "            break\n",
    "\n",
    "    ptr1 = nums[0]\n",
    "    ptr2 = tortoise\n",
    "    \n",
    "    while ptr1 != ptr2:\n",
    "        ptr1 = nums[ptr1]\n",
    "        ptr2 = nums[ptr2]\n",
    "    \n",
    "    return ptr1\n",
    "\n",
    "nums = [1, 3, 4, 2, 2]\n",
    "print(findDuplicate(nums))\n",
    "nums = [3, 1, 3, 4, 2]\n",
    "print(findDuplicate(nums)) "
   ]
  },
  {
   "cell_type": "markdown",
   "id": "ac76e77b",
   "metadata": {},
   "source": [
    "💡 **Question 5**\n",
    "\n",
    "Given two integer arrays `nums1` and `nums2`, return *an array of their intersection*. Each element in the result must be **unique** and you may return the result in **any order**"
   ]
  },
  {
   "cell_type": "code",
   "execution_count": 7,
   "id": "d516f6f1",
   "metadata": {},
   "outputs": [
    {
     "name": "stdout",
     "output_type": "stream",
     "text": [
      "[2]\n",
      "[9, 4]\n"
     ]
    }
   ],
   "source": [
    "def intersection(nums1, nums2):\n",
    "    set1 = set(nums1)\n",
    "    set2 = set(nums2)\n",
    "    return list(set1.intersection(set2))\n",
    "\n",
    "# Example usage:\n",
    "nums1 = [1, 2, 2, 1]\n",
    "nums2 = [2, 2, 3]\n",
    "print(intersection(nums1, nums2)) \n",
    "\n",
    "nums1 = [4, 9, 5]\n",
    "nums2 = [9, 4, 9, 8, 4]\n",
    "print(intersection(nums1, nums2))  "
   ]
  },
  {
   "cell_type": "markdown",
   "id": "fb443d68",
   "metadata": {},
   "source": [
    "💡 **Question 6**\n",
    "\n",
    "Suppose an array of length `n` sorted in ascending order is **rotated** between `1` and `n` times. For example, the array `nums = [0,1,2,4,5,6,7]` might become:\n",
    "\n",
    "- `[4,5,6,7,0,1,2]` if it was rotated `4` times.\n",
    "- `[0,1,2,4,5,6,7]` if it was rotated `7` times.\n",
    "\n",
    "Notice that **rotating** an array `[a[0], a[1], a[2], ..., a[n-1]]` 1 time results in the array `[a[n-1], a[0], a[1], a[2], ..., a[n-2]]`.\n",
    "\n",
    "Given the sorted rotated array `nums` of **unique** elements, return *the minimum element of this array*.\n",
    "\n",
    "You must write an algorithm that runs in `O(log n) time.`"
   ]
  },
  {
   "cell_type": "code",
   "execution_count": 9,
   "id": "c4609b41",
   "metadata": {},
   "outputs": [
    {
     "name": "stdout",
     "output_type": "stream",
     "text": [
      "1\n",
      "0\n"
     ]
    }
   ],
   "source": [
    "def findMin(nums):\n",
    "    left, right = 0, len(nums) - 1\n",
    "\n",
    "    while left < right:\n",
    "        mid = (left + right) // 2\n",
    "\n",
    "        \n",
    "        if nums[mid] > nums[right]:\n",
    "            left = mid + 1\n",
    "\n",
    "        \n",
    "        else:\n",
    "            right = mid\n",
    "\n",
    "    return nums[left]\n",
    "\n",
    "# Example usage:\n",
    "nums = [3,4,5,1,2]\n",
    "print(findMin(nums)) \n",
    "\n",
    "nums = [0, 1, 2, 4, 5, 6, 7]\n",
    "print(findMin(nums))\n"
   ]
  },
  {
   "cell_type": "markdown",
   "id": "73233240",
   "metadata": {},
   "source": [
    "Question-7\n",
    "Given an array of integers `nums` sorted in non-decreasing order, find the starting and ending position of a given `target` value.\n",
    "\n",
    "If `target` is not found in the array, return `[-1, -1]`.\n",
    "\n",
    "You must write an algorithm with `O(log n)` runtime complexity."
   ]
  },
  {
   "cell_type": "code",
   "execution_count": 10,
   "id": "46b4b58c",
   "metadata": {},
   "outputs": [
    {
     "name": "stdout",
     "output_type": "stream",
     "text": [
      "[3, 4]\n",
      "[-1, -1]\n"
     ]
    }
   ],
   "source": [
    "def searchRange(nums, target):\n",
    "    # Find the starting position\n",
    "    start = findPosition(nums, target, True)\n",
    "    if start == -1:\n",
    "        return [-1, -1]\n",
    "\n",
    "    # Find the ending position\n",
    "    end = findPosition(nums, target, False)\n",
    "\n",
    "    return [start, end]\n",
    "\n",
    "def findPosition(nums, target, isStart):\n",
    "    left, right = 0, len(nums) - 1\n",
    "    position = -1\n",
    "\n",
    "    while left <= right:\n",
    "        mid = (left + right) // 2\n",
    "\n",
    "        if nums[mid] == target:\n",
    "            position = mid\n",
    "\n",
    "            if isStart:\n",
    "                right = mid - 1\n",
    "            else:\n",
    "                left = mid + 1\n",
    "\n",
    "        elif nums[mid] < target:\n",
    "            left = mid + 1\n",
    "        else:\n",
    "            right = mid - 1\n",
    "\n",
    "    return position\n",
    "\n",
    "# Example usage:\n",
    "nums = [5, 7, 7, 8, 8, 10]\n",
    "target = 8\n",
    "print(searchRange(nums, target))  \n",
    "\n",
    "nums = [5, 7, 7, 8, 8, 10]\n",
    "target = 6\n",
    "print(searchRange(nums, target))  "
   ]
  },
  {
   "cell_type": "markdown",
   "id": "6eb54cd7",
   "metadata": {},
   "source": [
    "💡 **Question 8**\n",
    "\n",
    "Given two integer arrays `nums1` and `nums2`, return *an array of their intersection*. Each element in the result must appear as many times as it shows in both arrays and you may return the result in **any order**."
   ]
  },
  {
   "cell_type": "code",
   "execution_count": 11,
   "id": "c09d5690",
   "metadata": {},
   "outputs": [
    {
     "name": "stdout",
     "output_type": "stream",
     "text": [
      "[2, 2]\n",
      "[9, 4]\n"
     ]
    }
   ],
   "source": [
    "from collections import Counter\n",
    "\n",
    "def intersect(nums1, nums2):\n",
    "    # Count the frequency of elements in nums1\n",
    "    freq1 = Counter(nums1)\n",
    "    \n",
    "    # Store the common elements\n",
    "    intersection = []\n",
    "\n",
    "    for num in nums2:\n",
    "        if num in freq1 and freq1[num] > 0:\n",
    "            intersection.append(num)\n",
    "            freq1[num] -= 1\n",
    "    \n",
    "    return intersection\n",
    "nums1 = [1, 2, 2, 1]\n",
    "nums2 = [2, 2]\n",
    "print(intersect(nums1, nums2)) \n",
    "\n",
    "nums1 = [4, 9, 5]\n",
    "nums2 = [9, 4, 9, 8, 4]\n",
    "print(intersect(nums1, nums2)) "
   ]
  }
 ],
 "metadata": {
  "kernelspec": {
   "display_name": "Python 3 (ipykernel)",
   "language": "python",
   "name": "python3"
  },
  "language_info": {
   "codemirror_mode": {
    "name": "ipython",
    "version": 3
   },
   "file_extension": ".py",
   "mimetype": "text/x-python",
   "name": "python",
   "nbconvert_exporter": "python",
   "pygments_lexer": "ipython3",
   "version": "3.9.12"
  }
 },
 "nbformat": 4,
 "nbformat_minor": 5
}
