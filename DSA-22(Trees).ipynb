{
 "cells": [
  {
   "cell_type": "markdown",
   "id": "83126062",
   "metadata": {},
   "source": [
    "## Sharanya Manohar\n",
    "### DSA-22(Trees)-Python"
   ]
  },
  {
   "cell_type": "markdown",
   "id": "2b43e38a",
   "metadata": {},
   "source": [
    "💡 Question-1:\n",
    "\n",
    "Given a Binary Tree (Bt), convert it to a Doubly Linked List(DLL). The left and right pointers in nodes are to be used as previous and next pointers respectively in converted DLL. The order of nodes in DLL must be the same as in Inorder for the given Binary Tree. The first node of Inorder traversal (leftmost node in BT) must be the head node of the DLL."
   ]
  },
  {
   "cell_type": "code",
   "execution_count": 2,
   "id": "10644bec",
   "metadata": {},
   "outputs": [
    {
     "name": "stdout",
     "output_type": "stream",
     "text": [
      "5 "
     ]
    }
   ],
   "source": [
    "class Node:\n",
    "    def __init__(self, data):\n",
    "        self.data = data\n",
    "        self.left = None\n",
    "        self.right = None\n",
    "\n",
    "def convertToDLL(root, prev=None):\n",
    "    if root is None:\n",
    "        return prev\n",
    "\n",
    "    prev = convertToDLL(root.left, prev)\n",
    "    \n",
    "    if prev:\n",
    "        prev.right = root\n",
    "        root.left = prev\n",
    "    else:\n",
    "        head = root\n",
    "\n",
    "    prev = root\n",
    "    \n",
    "    return convertToDLL(root.right, prev)\n",
    "\n",
    "root = Node(4)\n",
    "root.left = Node(2)\n",
    "root.right = Node(5)\n",
    "root.left.left = Node(1)\n",
    "root.left.right = Node(3)\n",
    "\n",
    "head = convertToDLL(root)\n",
    "\n",
    "while head:\n",
    "    print(head.data, end=\" \")\n",
    "    head = head.right"
   ]
  },
  {
   "cell_type": "markdown",
   "id": "4c1ff452",
   "metadata": {},
   "source": [
    "💡 Question-2\n",
    "\n",
    "A Given a binary tree, the task is to flip the binary tree towards the right direction that is clockwise. See the below examples to see the transformation.\n",
    "\n",
    "In the flip operation, the leftmost node becomes the root of the flipped tree and its parent becomes its right child and the right sibling becomes its left child and the same should be done for all left most nodes recursively."
   ]
  },
  {
   "cell_type": "code",
   "execution_count": 4,
   "id": "5dc91d1a",
   "metadata": {},
   "outputs": [
    {
     "name": "stdout",
     "output_type": "stream",
     "text": [
      "4 5 3 "
     ]
    }
   ],
   "source": [
    "class Node:\n",
    "    def __init__(self, data):\n",
    "        self.data = data\n",
    "        self.left = None\n",
    "        self.right = None\n",
    "\n",
    "def flipBinaryTree(root):\n",
    "    if root is None or root.left is None:\n",
    "        return root\n",
    "\n",
    "    flipped_root = flipBinaryTree(root.left)\n",
    "\n",
    "    right_child = root.right\n",
    "    root.right = None\n",
    "    root.left = None\n",
    "\n",
    "    current = flipped_root\n",
    "    while current.right is not None:\n",
    "        current = current.right\n",
    "\n",
    "    current.right = right_child\n",
    "\n",
    "    flipped_right = flipBinaryTree(right_child)\n",
    "\n",
    "    return flipped_root\n",
    "\n",
    "def inorderTraversal(root):\n",
    "    if root is not None:\n",
    "        inorderTraversal(root.left)\n",
    "        print(root.data, end=\" \")\n",
    "        inorderTraversal(root.right)\n",
    "\n",
    "root = Node(1)\n",
    "root.left = Node(2)\n",
    "root.right = Node(3)\n",
    "root.left.left = Node(4)\n",
    "root.left.right = Node(5)\n",
    "\n",
    "flipped_root = flipBinaryTree(root)\n",
    "\n",
    "inorderTraversal(flipped_root)\n"
   ]
  },
  {
   "cell_type": "markdown",
   "id": "963c3cc2",
   "metadata": {},
   "source": [
    "💡 Question-3:\n",
    "\n",
    "Given a binary tree, print all its root-to-leaf paths without using recursion. For example, consider the following Binary Tree.\n",
    "\n",
    "Input:\n",
    "\n",
    "        6\n",
    "     /    \\\n",
    "    3      5\n",
    "  /   \\     \\\n",
    " 2     5     4\n",
    "     /   \\\n",
    "    7     4\n",
    "\n",
    "Output:\n",
    "\n",
    "There are 4 leaves, hence 4 root to leaf paths -\n",
    "  6->3->2\n",
    "  6->3->5->7\n",
    "  6->3->5->4\n",
    "  6->5>4"
   ]
  },
  {
   "cell_type": "code",
   "execution_count": 5,
   "id": "9ba5e4e5",
   "metadata": {},
   "outputs": [
    {
     "name": "stdout",
     "output_type": "stream",
     "text": [
      "6->3->2\n",
      "6->3->2->5->7\n",
      "6->3->2->5->7->4\n",
      "6->3->2->5->7->4->5->4\n"
     ]
    }
   ],
   "source": [
    "class Node:\n",
    "    def __init__(self, data):\n",
    "        self.data = data\n",
    "        self.left = None\n",
    "        self.right = None\n",
    "\n",
    "def printRootToLeafPaths(root):\n",
    "    if root is None:\n",
    "        return\n",
    "\n",
    "    stack = []\n",
    "    paths = []\n",
    "    current_path = []\n",
    "\n",
    "    stack.append(root)\n",
    "\n",
    "    while stack:\n",
    "        node = stack.pop()\n",
    "        current_path.append(str(node.data))\n",
    "\n",
    "        if node.left is None and node.right is None:\n",
    "            paths.append(\"->\".join(current_path))\n",
    "\n",
    "        if node.right is not None:\n",
    "            stack.append(node.right)\n",
    "\n",
    "        if node.left is not None:\n",
    "            stack.append(node.left)\n",
    "\n",
    "    for path in paths:\n",
    "        print(path)\n",
    "\n",
    "root = Node(6)\n",
    "root.left = Node(3)\n",
    "root.right = Node(5)\n",
    "root.left.left = Node(2)\n",
    "root.left.right = Node(5)\n",
    "root.right.right = Node(4)\n",
    "root.left.right.left = Node(7)\n",
    "root.left.right.right = Node(4)\n",
    "\n",
    "printRootToLeafPaths(root)\n"
   ]
  },
  {
   "cell_type": "markdown",
   "id": "df76c0f9",
   "metadata": {},
   "source": [
    "💡 Question-4:\n",
    "\n",
    "Given Preorder, Inorder and Postorder traversals of some tree. Write a program to check if they all are of the same tree.\n",
    "\n",
    "**Examples:**\n",
    "\n",
    "Input : \n",
    "\n",
    "        Inorder -> 4 2 5 1 3\n",
    "        Preorder -> 1 2 4 5 3\n",
    "        Postorder -> 4 5 2 3 1\n",
    "Output : \n",
    "\n",
    "Yes\n",
    "Explanation : \n",
    "\n",
    "All of the above three traversals are of\n",
    "the same tree \n",
    "\n",
    "                           1\n",
    "                         /   \\\n",
    "                        2     3\n",
    "                      /   \\\n",
    "                     4     5\n",
    "\n",
    "Input : \n",
    "\n",
    "        Inorder -> 4 2 5 1 3\n",
    "        Preorder -> 1 5 4 2 3\n",
    "        Postorder -> 4 1 2 3 5\n",
    "Output : \n",
    "\n",
    "No\n"
   ]
  },
  {
   "cell_type": "code",
   "execution_count": 6,
   "id": "78ccf2a3",
   "metadata": {},
   "outputs": [
    {
     "name": "stdout",
     "output_type": "stream",
     "text": [
      "True\n",
      "False\n"
     ]
    }
   ],
   "source": [
    "def checkTraversals(preorder, inorder, postorder):\n",
    "    if len(preorder) != len(inorder) or len(preorder) != len(postorder):\n",
    "        return False\n",
    "\n",
    "    if len(preorder) == 0:\n",
    "        return True\n",
    "\n",
    "    if preorder[0] != postorder[-1]:\n",
    "        return False\n",
    "\n",
    "    root = preorder[0]\n",
    "    root_index = inorder.index(root)\n",
    "\n",
    "    left_preorder = preorder[1:root_index + 1]\n",
    "    left_inorder = inorder[:root_index]\n",
    "    left_postorder = postorder[:root_index]\n",
    "\n",
    "    right_preorder = preorder[root_index + 1:]\n",
    "    right_inorder = inorder[root_index + 1:]\n",
    "    right_postorder = postorder[root_index:-1]\n",
    "\n",
    "    return checkTraversals(left_preorder, left_inorder, left_postorder) and \\\n",
    "           checkTraversals(right_preorder, right_inorder, right_postorder)\n",
    "\n",
    "preorder = [1, 2, 4, 5, 3]\n",
    "inorder = [4, 2, 5, 1, 3]\n",
    "postorder = [4, 5, 2, 3, 1]\n",
    "print(checkTraversals(preorder, inorder, postorder))\n",
    "\n",
    "preorder = [1, 5, 4, 2, 3]\n",
    "inorder = [4, 2, 5, 1, 3]\n",
    "postorder = [4, 1, 2, 3, 5]\n",
    "print(checkTraversals(preorder, inorder, postorder))"
   ]
  }
 ],
 "metadata": {
  "kernelspec": {
   "display_name": "Python 3 (ipykernel)",
   "language": "python",
   "name": "python3"
  },
  "language_info": {
   "codemirror_mode": {
    "name": "ipython",
    "version": 3
   },
   "file_extension": ".py",
   "mimetype": "text/x-python",
   "name": "python",
   "nbconvert_exporter": "python",
   "pygments_lexer": "ipython3",
   "version": "3.9.12"
  }
 },
 "nbformat": 4,
 "nbformat_minor": 5
}
