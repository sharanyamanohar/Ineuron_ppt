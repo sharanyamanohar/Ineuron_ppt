{
 "cells": [
  {
   "cell_type": "markdown",
   "id": "83126062",
   "metadata": {},
   "source": [
    "## Sharanya Manohar\n",
    "### DSA-17(Queues)-Python"
   ]
  },
  {
   "cell_type": "markdown",
   "id": "2b43e38a",
   "metadata": {},
   "source": [
    "💡 **Question 1**\n",
    "\n",
    "Given a string `s`, *find the first non-repeating character in it and return its index*. If it does not exist, return `-1`.\n"
   ]
  },
  {
   "cell_type": "code",
   "execution_count": 3,
   "id": "10644bec",
   "metadata": {},
   "outputs": [
    {
     "name": "stdout",
     "output_type": "stream",
     "text": [
      "Enter a string: leetcode\n",
      "Index of the first non-repeating character: 0\n"
     ]
    }
   ],
   "source": [
    "def first_non_repeating_char(s):\n",
    "    char_count = {}\n",
    "\n",
    "    # Count the occurrences of each character\n",
    "    for char in s:\n",
    "        if char in char_count:\n",
    "            char_count[char] += 1\n",
    "        else:\n",
    "            char_count[char] = 1\n",
    "    for i in range(len(s)):\n",
    "        if char_count[s[i]] == 1:\n",
    "            return i\n",
    "\n",
    "    return -1\n",
    "\n",
    "# Example usage:\n",
    "s = input(\"Enter a string: \")\n",
    "index = first_non_repeating_char(s)\n",
    "print(\"Index of the first non-repeating character:\", index)\n"
   ]
  },
  {
   "cell_type": "markdown",
   "id": "4c1ff452",
   "metadata": {},
   "source": [
    "💡 **Question 2**\n",
    "\n",
    "Given a **circular integer array** `nums` of length `n`, return *the maximum possible sum of a non-empty **subarray** of* `nums`.\n",
    "\n",
    "A **circular array** means the end of the array connects to the beginning of the array. Formally, the next element of `nums[i]` is `nums[(i + 1) % n]` and the previous element of `nums[i]` is `nums[(i - 1 + n) % n]`.\n",
    "\n",
    "A **subarray** may only include each element of the fixed buffer `nums` at most once. Formally, for a subarray `nums[i], nums[i + 1], ..., nums[j]`, there does not exist `i <= k1`, `k2 <= j` with `k1 % n == k2 % n`."
   ]
  },
  {
   "cell_type": "code",
   "execution_count": 4,
   "id": "5dc91d1a",
   "metadata": {},
   "outputs": [
    {
     "name": "stdout",
     "output_type": "stream",
     "text": [
      "Maximum subarray sum: 15\n"
     ]
    }
   ],
   "source": [
    "def max_subarray_sum(nums):\n",
    "    max_sum = float('-inf')\n",
    "    min_sum = float('inf')\n",
    "    curr_max = 0\n",
    "    curr_min = 0\n",
    "    total_sum = 0\n",
    "\n",
    "    # Calculate maximum subarray sum within linear array\n",
    "    for num in nums:\n",
    "        curr_max = max(num, curr_max + num)\n",
    "        max_sum = max(max_sum, curr_max)\n",
    "\n",
    "    for num in nums:\n",
    "        curr_min = min(num, curr_min + num)\n",
    "        min_sum = min(min_sum, curr_min)\n",
    "\n",
    "    total_sum = sum(nums)\n",
    "\n",
    "    if total_sum == min_sum:\n",
    "        return max_sum\n",
    "    else:\n",
    "        return max(max_sum, total_sum - min_sum)\n",
    "nums = [8, -1, 3, 4]\n",
    "max_sum = max_subarray_sum(nums)\n",
    "print(\"Maximum subarray sum:\", max_sum)\n"
   ]
  },
  {
   "cell_type": "markdown",
   "id": "963c3cc2",
   "metadata": {},
   "source": [
    "Question3-\n",
    "\n",
    "\n",
    "The school cafeteria offers circular and square sandwiches at lunch break, referred to by numbers `0` and `1` respectively. All students stand in a queue. Each student either prefers square or circular sandwiches.\n",
    "\n",
    "The number of sandwiches in the cafeteria is equal to the number of students. The sandwiches are placed in a **stack**. At each step:\n",
    "\n",
    "- If the student at the front of the queue **prefers** the sandwich on the top of the stack, they will **take it** and leave the queue.\n",
    "- Otherwise, they will **leave it** and go to the queue's end.\n",
    "\n",
    "This continues until none of the queue students want to take the top sandwich and are thus unable to eat.\n",
    "\n",
    "You are given two integer arrays `students` and `sandwiches` where `sandwiches[i]` is the type of the `ith` sandwich in the stack (`i = 0` is the top of the stack) and `students[j]` is the preference of the `jth` student in the initial queue (`j = 0` is the front of the queue). Return *the number of students that are unable to eat.*"
   ]
  },
  {
   "cell_type": "code",
   "execution_count": 5,
   "id": "9ba5e4e5",
   "metadata": {},
   "outputs": [
    {
     "name": "stdout",
     "output_type": "stream",
     "text": [
      "Number of students unable to eat: 0\n"
     ]
    }
   ],
   "source": [
    "def count_students_unable_to_eat(students, sandwiches):\n",
    "    unable_to_eat = 0\n",
    "    queue = students.copy()\n",
    "    stack = sandwiches.copy()\n",
    "\n",
    "    while queue and stack:\n",
    "        if queue[0] == stack[0]:\n",
    "            queue.pop(0)\n",
    "            stack.pop(0)\n",
    "        else:\n",
    "            queue.append(queue.pop(0))\n",
    "\n",
    "    unable_to_eat = len(queue)\n",
    "    return unable_to_eat\n",
    "\n",
    "# Example usage:\n",
    "students = [1,1,0,0]\n",
    "sandwiches = [0,1,0,1]\n",
    "unable_to_eat_count = count_students_unable_to_eat(students, sandwiches)\n",
    "print(\"Number of students unable to eat:\", unable_to_eat_count)\n"
   ]
  },
  {
   "cell_type": "markdown",
   "id": "df76c0f9",
   "metadata": {},
   "source": [
    "💡 **Question 4**\n",
    "\n",
    "You have a `RecentCounter` class which counts the number of recent requests within a certain time frame.\n",
    "\n",
    "Implement the `RecentCounter` class:\n",
    "\n",
    "- `RecentCounter()` Initializes the counter with zero recent requests.\n",
    "- `int ping(int t)` Adds a new request at time `t`, where `t` represents some time in milliseconds, and returns the number of requests that has happened in the past `3000` milliseconds (including the new request). Specifically, return the number of requests that have happened in the inclusive range `[t - 3000, t]`.\n",
    "\n",
    "It is **guaranteed** that every call to `ping` uses a strictly larger value of `t` than the previous call."
   ]
  },
  {
   "cell_type": "code",
   "execution_count": 6,
   "id": "78ccf2a3",
   "metadata": {},
   "outputs": [
    {
     "name": "stdout",
     "output_type": "stream",
     "text": [
      "1\n",
      "2\n",
      "3\n",
      "4\n",
      "5\n",
      "3\n"
     ]
    }
   ],
   "source": [
    "from collections import deque\n",
    "\n",
    "class RecentCounter:\n",
    "    def __init__(self):\n",
    "        self.requests = deque()\n",
    "\n",
    "    def ping(self, t):\n",
    "        self.requests.append(t)\n",
    "        \n",
    "        while self.requests[0] < t - 3000:\n",
    "            self.requests.popleft()\n",
    "\n",
    "        return len(self.requests)\n",
    "\n",
    "counter = RecentCounter()\n",
    "print(counter.ping(100))    \n",
    "print(counter.ping(300))   \n",
    "print(counter.ping(600))    \n",
    "print(counter.ping(2000))   \n",
    "print(counter.ping(3001))   \n",
    "print(counter.ping(5000))   \n"
   ]
  },
  {
   "cell_type": "markdown",
   "id": "ac76e77b",
   "metadata": {},
   "source": [
    "💡 **Question 5**\n",
    "\n",
    "There are `n` friends that are playing a game. The friends are sitting in a circle and are numbered from `1` to `n` in **clockwise order**. More formally, moving clockwise from the `ith` friend brings you to the `(i+1)th` friend for `1 <= i < n`, and moving clockwise from the `nth` friend brings you to the `1st` friend.\n",
    "\n",
    "The rules of the game are as follows:\n",
    "\n",
    "1. **Start** at the `1st` friend.\n",
    "2. Count the next `k` friends in the clockwise direction **including** the friend you started at. The counting wraps around the circle and may count some friends more than once.\n",
    "3. The last friend you counted leaves the circle and loses the game.\n",
    "4. If there is still more than one friend in the circle, go back to step `2` **starting** from the friend **immediately clockwise** of the friend who just lost and repeat.\n",
    "5. Else, the last friend in the circle wins the game.\n",
    "\n",
    "Given the number of friends, `n`, and an integer `k`, return *the winner of the game*."
   ]
  },
  {
   "cell_type": "code",
   "execution_count": 7,
   "id": "d516f6f1",
   "metadata": {},
   "outputs": [
    {
     "name": "stdout",
     "output_type": "stream",
     "text": [
      "Winner of the game: 3\n"
     ]
    }
   ],
   "source": [
    "def find_winner(n, k):\n",
    "    friends = list(range(1, n + 1))\n",
    "    current_friend = 0\n",
    "\n",
    "    while len(friends) > 1:\n",
    "        count = (current_friend + k - 1) % len(friends)\n",
    "        friends.pop(count)\n",
    "        current_friend = count % len(friends)\n",
    "\n",
    "    return friends[0]\n",
    "\n",
    "n = 5\n",
    "k = 2\n",
    "winner = find_winner(n, k)\n",
    "print(\"Winner of the game:\", winner)\n"
   ]
  },
  {
   "cell_type": "markdown",
   "id": "fb443d68",
   "metadata": {},
   "source": [
    "💡 **Question 6**\n",
    "\n",
    "You are given an integer array `deck`. There is a deck of cards where every card has a unique integer. The integer on the `ith` card is `deck[i]`.\n",
    "\n",
    "You can order the deck in any order you want. Initially, all the cards start face down (unrevealed) in one deck.\n",
    "\n",
    "You will do the following steps repeatedly until all cards are revealed:\n",
    "\n",
    "1. Take the top card of the deck, reveal it, and take it out of the deck.\n",
    "2. If there are still cards in the deck then put the next top card of the deck at the bottom of the deck.\n",
    "3. If there are still unrevealed cards, go back to step 1. Otherwise, stop.\n",
    "\n",
    "Return *an ordering of the deck that would reveal the cards in increasing order*.\n"
   ]
  },
  {
   "cell_type": "code",
   "execution_count": 8,
   "id": "c4609b41",
   "metadata": {},
   "outputs": [
    {
     "name": "stdout",
     "output_type": "stream",
     "text": [
      "Ordering to reveal cards in increasing order: [2, 13, 3, 11, 5, 17, 7]\n"
     ]
    }
   ],
   "source": [
    "from collections import deque\n",
    "\n",
    "def deck_revealed_increasing(deck):\n",
    "    deck.sort(reverse=True)\n",
    "    queue = deque()\n",
    "\n",
    "    for card in deck:\n",
    "        if queue:\n",
    "            queue.appendleft(queue.pop())\n",
    "        queue.appendleft(card)\n",
    "\n",
    "    return list(queue)\n",
    "\n",
    "# Example usage:\n",
    "deck = [17, 13, 11, 2, 3, 5, 7]\n",
    "ordering = deck_revealed_increasing(deck)\n",
    "print(\"Ordering to reveal cards in increasing order:\", ordering)"
   ]
  },
  {
   "cell_type": "markdown",
   "id": "73233240",
   "metadata": {},
   "source": [
    "💡 **Question 7**\n",
    "\n",
    "Design a queue that supports `push` and `pop` operations in the front, middle, and back.\n",
    "\n",
    "Implement the `FrontMiddleBack` class:\n",
    "\n",
    "- `FrontMiddleBack()` Initializes the queue.\n",
    "- `void pushFront(int val)` Adds `val` to the **front** of the queue.\n",
    "- `void pushMiddle(int val)` Adds `val` to the **middle** of the queue.\n",
    "- `void pushBack(int val)` Adds `val` to the **back** of the queue.\n",
    "- `int popFront()` Removes the **front** element of the queue and returns it. If the queue is empty, return `1`.\n",
    "- `int popMiddle()` Removes the **middle** element of the queue and returns it. If the queue is empty, return `1`.\n",
    "- `int popBack()` Removes the **back** element of the queue and returns it. If the queue is empty, return `1`.\n",
    "\n",
    "**Notice** that when there are **two** middle position choices, the operation is performed on the **frontmost** middle position choice. For example:\n",
    "\n",
    "- Pushing `6` into the middle of `[1, 2, 3, 4, 5]` results in `[1, 2, 6, 3, 4, 5]`.\n",
    "- Popping the middle from `[1, 2, 3, 4, 5, 6]` returns `3` and results in `[1, 2, 4, 5, 6]`."
   ]
  },
  {
   "cell_type": "code",
   "execution_count": 9,
   "id": "46b4b58c",
   "metadata": {},
   "outputs": [
    {
     "name": "stdout",
     "output_type": "stream",
     "text": [
      "1\n"
     ]
    }
   ],
   "source": [
    "class FrontMiddleBack:\n",
    "    def __init__(self):\n",
    "        self.front = []\n",
    "        self.back = []\n",
    "\n",
    "    def pushFront(self, val):\n",
    "        self.front.insert(0, val)\n",
    "\n",
    "    def pushMiddle(self, val):\n",
    "        if len(self.front) == len(self.back) or len(self.front) > len(self.back):\n",
    "            self.front.append(val)\n",
    "            self.back.insert(0, self.front.pop())\n",
    "        else:\n",
    "            self.back.insert(0, val)\n",
    "            self.front.insert(0, self.back.pop())\n",
    "\n",
    "    def pushBack(self, val):\n",
    "        self.back.append(val)\n",
    "\n",
    "    def popFront(self):\n",
    "        if self.front:\n",
    "            return self.front.pop(0)\n",
    "        elif self.back:\n",
    "            return self.back.pop(0)\n",
    "        else:\n",
    "            return 1\n",
    "\n",
    "    def popMiddle(self):\n",
    "        if len(self.front) == len(self.back) or len(self.front) > len(self.back):\n",
    "            self.back.insert(0, self.front.pop())\n",
    "            return self.front.pop()\n",
    "        else:\n",
    "            self.front.insert(0, self.back.pop())\n",
    "            return self.back.pop(0)\n",
    "\n",
    "    def popBack(self):\n",
    "        if self.back:\n",
    "            return self.back.pop()\n",
    "        elif self.front:\n",
    "            return self.front.pop()\n",
    "        else:\n",
    "            return 1\n",
    "\n",
    "queue = FrontMiddleBack()\n",
    "queue.pushFront(1)\n",
    "queue.pushBack(2)\n",
    "queue.pushMiddle(3)\n",
    "print(queue.popFront())   "
   ]
  },
  {
   "cell_type": "markdown",
   "id": "6eb54cd7",
   "metadata": {},
   "source": [
    "💡 **Question 8**\n",
    "\n",
    "For a stream of integers, implement a data structure that checks if the last `k` integers parsed in the stream are **equal** to `value`.\n",
    "\n",
    "Implement the **DataStream** class:\n",
    "\n",
    "- `DataStream(int value, int k)` Initializes the object with an empty integer stream and the two integers `value` and `k`.\n",
    "- `boolean consec(int num)` Adds `num` to the stream of integers. Returns `true` if the last `k` integers are equal to `value`, and `false` otherwise. If there are less than `k` integers, the condition does not hold true, so returns `false`."
   ]
  },
  {
   "cell_type": "code",
   "execution_count": 10,
   "id": "c09d5690",
   "metadata": {},
   "outputs": [
    {
     "name": "stdout",
     "output_type": "stream",
     "text": [
      "False\n",
      "False\n",
      "False\n",
      "False\n",
      "False\n",
      "False\n"
     ]
    }
   ],
   "source": [
    "class DataStream:\n",
    "    def __init__(self, value, k):\n",
    "        self.buffer = [0] * k\n",
    "        self.value = value\n",
    "        self.k = k\n",
    "        self.current = 0\n",
    "        self.count = 0\n",
    "\n",
    "    def consec(self, num):\n",
    "        self.buffer[self.current] = num\n",
    "        self.count += 1\n",
    "\n",
    "        if self.count < self.k:\n",
    "            return False\n",
    "\n",
    "        for i in range(self.k):\n",
    "            if self.buffer[(self.current + i) % self.k] != self.value:\n",
    "                return False\n",
    "\n",
    "        self.current = (self.current + 1) % self.k\n",
    "        self.count -= 1\n",
    "\n",
    "        return True\n",
    "\n",
    "# Example usage:\n",
    "stream = DataStream(2, 3)\n",
    "print(stream.consec(1))    \n",
    "print(stream.consec(2))    \n",
    "print(stream.consec(2))     \n",
    "print(stream.consec(2))     \n",
    "print(stream.consec(1))     \n",
    "print(stream.consec(1))     \n"
   ]
  }
 ],
 "metadata": {
  "kernelspec": {
   "display_name": "Python 3 (ipykernel)",
   "language": "python",
   "name": "python3"
  },
  "language_info": {
   "codemirror_mode": {
    "name": "ipython",
    "version": 3
   },
   "file_extension": ".py",
   "mimetype": "text/x-python",
   "name": "python",
   "nbconvert_exporter": "python",
   "pygments_lexer": "ipython3",
   "version": "3.9.12"
  }
 },
 "nbformat": 4,
 "nbformat_minor": 5
}
