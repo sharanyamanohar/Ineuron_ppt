{
 "cells": [
  {
   "cell_type": "markdown",
   "id": "83126062",
   "metadata": {},
   "source": [
    "## Sharanya Manohar\n",
    "### DSA-7(String)-Python"
   ]
  },
  {
   "cell_type": "markdown",
   "id": "2b43e38a",
   "metadata": {},
   "source": [
    "<aside>\n",
    "💡 **Question 1**\n",
    "\n",
    "Given two strings s and t, *determine if they are isomorphic*.\n",
    "\n",
    "Two strings s and t are isomorphic if the characters in s can be replaced to get t.\n",
    "\n",
    "All occurrences of a character must be replaced with another character while preserving the order of characters. No two characters may map to the same character, but a character may map to itself.\n",
    "\n",
    "**Example 1:**\n",
    "\n",
    "**Input:** s = \"egg\", t = \"add\"\n",
    "\n",
    "**Output:** true\n",
    "\n",
    "</aside>"
   ]
  },
  {
   "cell_type": "code",
   "execution_count": 2,
   "id": "10644bec",
   "metadata": {},
   "outputs": [
    {
     "name": "stdout",
     "output_type": "stream",
     "text": [
      "True\n"
     ]
    }
   ],
   "source": [
    "def isIsomorphic(s, t):\n",
    "    if len(s) != len(t):\n",
    "        return False\n",
    "    \n",
    "    s_to_t = {}\n",
    "    t_to_s = {}\n",
    "    \n",
    "    for s_char, t_char in zip(s, t):\n",
    "        if s_char not in s_to_t and t_char not in t_to_s:\n",
    "            s_to_t[s_char] = t_char\n",
    "            t_to_s[t_char] = s_char\n",
    "        elif s_char in s_to_t and t_char in t_to_s:\n",
    "            if s_to_t[s_char] != t_char or t_to_s[t_char] != s_char:\n",
    "                return False\n",
    "        else:\n",
    "            return False\n",
    "    \n",
    "    return True\n",
    "\n",
    "s = \"egg\"\n",
    "t = \"add\"\n",
    "print(isIsomorphic(s, t))"
   ]
  },
  {
   "cell_type": "markdown",
   "id": "4c1ff452",
   "metadata": {},
   "source": [
    "💡 **Question 2**\n",
    "\n",
    "Given a string num which represents an integer, return true *if* num *is a **strobogrammatic number***.\n",
    "\n",
    "A **strobogrammatic number** is a number that looks the same when rotated 180 degrees (looked at upside down).\n",
    "\n",
    "**Example 1:**\n",
    "\n",
    "**Input:** num = \"69\"\n",
    "\n",
    "**Output:**\n",
    "\n",
    "true"
   ]
  },
  {
   "cell_type": "code",
   "execution_count": 5,
   "id": "5dc91d1a",
   "metadata": {},
   "outputs": [
    {
     "name": "stdout",
     "output_type": "stream",
     "text": [
      "True\n"
     ]
    }
   ],
   "source": [
    "def isStrobogrammatic(num):\n",
    "    mapping = {\n",
    "        '0': '0',\n",
    "        '1': '1',\n",
    "        '6': '9',\n",
    "        '8': '8',\n",
    "        '9': '6'\n",
    "    }\n",
    "    \n",
    "    left = 0\n",
    "    right = len(num) - 1\n",
    "    \n",
    "    while left <= right:\n",
    "        if num[left] not in mapping or mapping[num[left]] != num[right]:\n",
    "            return False\n",
    "        left += 1\n",
    "        right -= 1\n",
    "    \n",
    "    return True\n",
    "num = \"69\"\n",
    "print(isStrobogrammatic(num))"
   ]
  },
  {
   "cell_type": "markdown",
   "id": "963c3cc2",
   "metadata": {},
   "source": [
    "💡 **Question 3**\n",
    "\n",
    "Given two non-negative integers, num1 and num2 represented as string, return *the sum of* num1 *and* num2 *as a string*.\n",
    "\n",
    "You must solve the problem without using any built-in library for handling large integers (such as BigInteger). You must also not convert the inputs to integers directly.\n",
    "\n",
    "**Example 1:**\n",
    "\n",
    "**Input:** num1 = \"11\", num2 = \"123\"\n",
    "\n",
    "**Output:**\n",
    "\n",
    "\"134\""
   ]
  },
  {
   "cell_type": "code",
   "execution_count": 6,
   "id": "9ba5e4e5",
   "metadata": {},
   "outputs": [
    {
     "name": "stdout",
     "output_type": "stream",
     "text": [
      "134\n"
     ]
    }
   ],
   "source": [
    "def addStrings(num1, num2):\n",
    "    result = \"\"\n",
    "    carry = 0\n",
    "    i = len(num1) - 1\n",
    "    j = len(num2) - 1\n",
    "    \n",
    "    while i >= 0 or j >= 0:\n",
    "        digit1 = int(num1[i]) if i >= 0 else 0\n",
    "        digit2 = int(num2[j]) if j >= 0 else 0\n",
    "        digit_sum = digit1 + digit2 + carry\n",
    "        carry = digit_sum // 10\n",
    "        digit = digit_sum % 10\n",
    "        result = str(digit) + result\n",
    "        i -= 1\n",
    "        j -= 1\n",
    "    \n",
    "    if carry > 0:\n",
    "        result = str(carry) + result\n",
    "    \n",
    "    return result\n",
    "num1 = \"11\"\n",
    "num2 = \"123\"\n",
    "print(addStrings(num1, num2))  "
   ]
  },
  {
   "cell_type": "markdown",
   "id": "df76c0f9",
   "metadata": {},
   "source": [
    "💡 **Question 4**\n",
    "\n",
    "Given a string s, reverse the order of characters in each word within a sentence while still preserving whitespace and initial word order.\n",
    "\n",
    "**Example 1:**\n",
    "\n",
    "**Input:** s = \"Let's take LeetCode contest\"\n",
    "\n",
    "**Output:** \"s'teL ekat edoCteeL tsetnoc\""
   ]
  },
  {
   "cell_type": "code",
   "execution_count": 22,
   "id": "78ccf2a3",
   "metadata": {},
   "outputs": [
    {
     "name": "stdout",
     "output_type": "stream",
     "text": [
      "s'teL ekat edoCteeL tsetnoc\n"
     ]
    }
   ],
   "source": [
    "s = \"Let's take LeetCode contest\"\n",
    "a = s.split()\n",
    "\n",
    "reversed_words = []\n",
    "for word in a:\n",
    "    reversed_word = ''.join(word[::-1])\n",
    "    reversed_words.append(reversed_word)\n",
    "\n",
    "reversed_sentence = ' '.join(reversed_words)\n",
    "print(reversed_sentence)"
   ]
  },
  {
   "cell_type": "markdown",
   "id": "ac76e77b",
   "metadata": {},
   "source": [
    "💡 **Question 5**\n",
    "\n",
    "Given a string s and an integer k, reverse the first k characters for every 2k characters counting from the start of the string.\n",
    "\n",
    "If there are fewer than k characters left, reverse all of them. If there are less than 2k but greater than or equal to k characters, then reverse the first k characters and leave the other as original.\n",
    "\n",
    "**Example 1:**\n",
    "\n",
    "**Input:** s = \"abcdefg\", k = 2\n",
    "\n",
    "**Output:**\n",
    "\n",
    "\"bacdfeg\""
   ]
  },
  {
   "cell_type": "code",
   "execution_count": 23,
   "id": "b80b3343",
   "metadata": {},
   "outputs": [
    {
     "name": "stdout",
     "output_type": "stream",
     "text": [
      "bacdfeg\n"
     ]
    }
   ],
   "source": [
    "def reverseSegment(lst, start, end):\n",
    "    while start < end:\n",
    "        lst[start], lst[end] = lst[end], lst[start]\n",
    "        start += 1\n",
    "        end -= 1\n",
    "\n",
    "def reverseStr(s, k):\n",
    "    lst = list(s)\n",
    "\n",
    "    for i in range(0, len(lst), 2*k):\n",
    "        reverseSegment(lst, i, min(i + k - 1, len(lst) - 1))\n",
    "\n",
    "    return ''.join(lst)\n",
    "s = \"abcdefg\"\n",
    "k = 2\n",
    "print(reverseStr(s, k)) "
   ]
  },
  {
   "cell_type": "markdown",
   "id": "fb443d68",
   "metadata": {},
   "source": [
    "💡 **Question 6**\n",
    "\n",
    "Given two strings s and goal, return true *if and only if* s *can become* goal *after some number of **shifts** on* s.\n",
    "\n",
    "A **shift** on s consists of moving the leftmost character of s to the rightmost position.\n",
    "\n",
    "- For example, if s = \"abcde\", then it will be \"bcdea\" after one shift.\n",
    "\n",
    "**Example 1:**\n",
    "\n",
    "**Input:** s = \"abcde\", goal = \"cdeab\"\n",
    "\n",
    "**Output:**\n",
    "\n",
    "true"
   ]
  },
  {
   "cell_type": "code",
   "execution_count": 24,
   "id": "c4609b41",
   "metadata": {},
   "outputs": [
    {
     "name": "stdout",
     "output_type": "stream",
     "text": [
      "True\n"
     ]
    }
   ],
   "source": [
    "def rotateString(s, goal):\n",
    "    if len(s) != len(goal):\n",
    "        return False\n",
    "\n",
    "    s_double = s + s\n",
    "    if goal in s_double:\n",
    "        return True\n",
    "    else:\n",
    "        return False\n",
    "s = \"abcde\"\n",
    "goal = \"cdeab\"\n",
    "print(rotateString(s, goal))"
   ]
  },
  {
   "cell_type": "markdown",
   "id": "73233240",
   "metadata": {},
   "source": [
    "💡 **Question 7**\n",
    "\n",
    "Given two strings s and t, return true *if they are equal when both are typed into empty text editors*. '#' means a backspace character.\n",
    "\n",
    "Note that after backspacing an empty text, the text will continue empty.\n",
    "\n",
    "**Example 1:**\n",
    "\n",
    "**Input:** s = \"ab#c\", t = \"ad#c\"\n",
    "\n",
    "**Output:** true\n",
    "\n",
    "**Explanation:**\n",
    "\n",
    "Both s and t become \"ac\"."
   ]
  },
  {
   "cell_type": "code",
   "execution_count": 25,
   "id": "46b4b58c",
   "metadata": {},
   "outputs": [
    {
     "name": "stdout",
     "output_type": "stream",
     "text": [
      "True\n"
     ]
    }
   ],
   "source": [
    "def processString(s):\n",
    "    stack = []\n",
    "\n",
    "    for char in s:\n",
    "        if char == '#':\n",
    "            if stack:\n",
    "                stack.pop()\n",
    "        else:\n",
    "            stack.append(char)\n",
    "\n",
    "    return ''.join(stack)\n",
    "\n",
    "def backspaceCompare(s, t):\n",
    "    return processString(s) == processString(t)\n",
    "\n",
    "s = \"ab#c\"\n",
    "t = \"ad#c\"\n",
    "print(backspaceCompare(s, t))"
   ]
  },
  {
   "cell_type": "markdown",
   "id": "6eb54cd7",
   "metadata": {},
   "source": [
    "💡 **Question 8**\n",
    "\n",
    "You are given an array coordinates, coordinates[i] = [x, y], where [x, y] represents the coordinate of a point. Check if these points make a straight line in the XY plane.\n",
    "\n",
    "**Input:** coordinates = [[1,2],[2,3],[3,4],[4,5],[5,6],[6,7]]\n",
    "\n",
    "**Output:** true"
   ]
  },
  {
   "cell_type": "code",
   "execution_count": 26,
   "id": "c09d5690",
   "metadata": {},
   "outputs": [
    {
     "name": "stdout",
     "output_type": "stream",
     "text": [
      "True\n"
     ]
    }
   ],
   "source": [
    "def checkStraightLine(coordinates):\n",
    "    x1, y1 = coordinates[0]\n",
    "    x2, y2 = coordinates[1]\n",
    "    \n",
    "    reference_slope = (y2 - y1) / (x2 - x1)\n",
    "    \n",
    "    for i in range(2, len(coordinates)):\n",
    "        x, y = coordinates[i]\n",
    "        slope_i = (y - y1) / (x - x1)\n",
    "        \n",
    "        if slope_i != reference_slope:\n",
    "            return False\n",
    "    \n",
    "    return True\n",
    "coordinates = [[1,2],[2,3],[3,4],[4,5],[5,6],[6,7]]\n",
    "print(checkStraightLine(coordinates)) "
   ]
  }
 ],
 "metadata": {
  "kernelspec": {
   "display_name": "Python 3 (ipykernel)",
   "language": "python",
   "name": "python3"
  },
  "language_info": {
   "codemirror_mode": {
    "name": "ipython",
    "version": 3
   },
   "file_extension": ".py",
   "mimetype": "text/x-python",
   "name": "python",
   "nbconvert_exporter": "python",
   "pygments_lexer": "ipython3",
   "version": "3.9.12"
  }
 },
 "nbformat": 4,
 "nbformat_minor": 5
}
