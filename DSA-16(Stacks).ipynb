{
 "cells": [
  {
   "cell_type": "markdown",
   "id": "83126062",
   "metadata": {},
   "source": [
    "## Sharanya Manohar\n",
    "### DSA-16(Stacks)-Python"
   ]
  },
  {
   "cell_type": "markdown",
   "id": "2b43e38a",
   "metadata": {},
   "source": [
    "Question-1\n",
    "\n",
    "Given an array, for each element find the value of the nearest element to the right which is having a frequency greater than that of the current element. If there does not exist an answer for a position, then make the value ‘-1’."
   ]
  },
  {
   "cell_type": "code",
   "execution_count": 2,
   "id": "10644bec",
   "metadata": {},
   "outputs": [
    {
     "name": "stdout",
     "output_type": "stream",
     "text": [
      "[-1, -1, -1, -1, -1, -1, -1]\n"
     ]
    }
   ],
   "source": [
    "from collections import defaultdict\n",
    "\n",
    "def find_nearest_greater_frequency(arr):\n",
    "    frequency = defaultdict(int)  # Dictionary to store frequency of elements\n",
    "    result = [-1] * len(arr)  # Result array initialized with -1\n",
    "\n",
    "    for i in range(len(arr) - 1, -1, -1):  # Traverse the array from right to left\n",
    "        frequency[arr[i]] += 1  # Update the frequency of the current element\n",
    "\n",
    "        # Check for elements on the right with greater frequency\n",
    "        for j in range(i + 1, len(arr)):\n",
    "            if frequency[arr[j]] > frequency[arr[i]]:\n",
    "                result[i] = arr[j]  # Store the nearest element with greater frequency\n",
    "                break\n",
    "\n",
    "    return result\n",
    "\n",
    "arr = [1, 1, 2, 3, 4, 2, 1]\n",
    "result = find_nearest_greater_frequency(arr)\n",
    "print(result)"
   ]
  },
  {
   "cell_type": "markdown",
   "id": "4c1ff452",
   "metadata": {},
   "source": [
    "💡 **Question 2**\n",
    "\n",
    "Given a stack of integers, sort it in ascending order using another temporary stack."
   ]
  },
  {
   "cell_type": "code",
   "execution_count": 3,
   "id": "5dc91d1a",
   "metadata": {},
   "outputs": [
    {
     "name": "stdout",
     "output_type": "stream",
     "text": [
      "[1, 2, 3, 5, 8]\n"
     ]
    }
   ],
   "source": [
    "def sort_stack(stack):\n",
    "    temp_stack = []\n",
    "\n",
    "    while stack:\n",
    "        temp = stack.pop()\n",
    "\n",
    "        while temp_stack and temp_stack[-1] > temp:\n",
    "            stack.append(temp_stack.pop())\n",
    "\n",
    "        temp_stack.append(temp)\n",
    "\n",
    "    return temp_stack\n",
    "stack = [5, 2, 8, 1, 3]\n",
    "sorted_stack = sort_stack(stack)\n",
    "print(sorted_stack)"
   ]
  },
  {
   "cell_type": "markdown",
   "id": "963c3cc2",
   "metadata": {},
   "source": [
    "💡 **Question 3**\n",
    "\n",
    "Given a stack with **push()**, **pop()**, and **empty()** operations, The task is to delete the **middle** element ****of it without using any additional data structure.\n",
    "\n",
    "Input  : Stack[] = [1, 2, 3, 4, 5]\n",
    "\n",
    "Output : Stack[] = [1, 2, 4, 5]"
   ]
  },
  {
   "cell_type": "code",
   "execution_count": 4,
   "id": "9ba5e4e5",
   "metadata": {},
   "outputs": [
    {
     "name": "stdout",
     "output_type": "stream",
     "text": [
      "[1, 2, 4, 5]\n"
     ]
    }
   ],
   "source": [
    "def delete_middle(stack, current_position, middle_position):\n",
    "    if current_position == middle_position:\n",
    "        stack.pop()\n",
    "        return\n",
    "\n",
    "    temp = stack.pop()\n",
    "    delete_middle(stack, current_position + 1, middle_position)\n",
    "    stack.append(temp)\n",
    "\n",
    "\n",
    "def delete_middle_element(stack):\n",
    "    size = len(stack)\n",
    "    middle_position = (size // 2) + 1\n",
    "    delete_middle(stack, 1, middle_position)\n",
    "\n",
    "\n",
    "# Example usage:\n",
    "stack = [1, 2, 3, 4, 5]\n",
    "delete_middle_element(stack)\n",
    "print(stack)\n"
   ]
  },
  {
   "cell_type": "markdown",
   "id": "df76c0f9",
   "metadata": {},
   "source": [
    "💡 **Question 4**\n",
    "\n",
    "Given a Queue consisting of first **n** natural numbers (in random order). The task is to check whether the given Queue elements can be arranged in increasing order in another Queue using a stack. The operation allowed are:\n",
    "\n",
    "1. Push and pop elements from the stack\n",
    "2. Pop (Or Dequeue) from the given Queue.\n",
    "3. Push (Or Enqueue) in the another Queue."
   ]
  },
  {
   "cell_type": "code",
   "execution_count": 5,
   "id": "78ccf2a3",
   "metadata": {},
   "outputs": [
    {
     "name": "stdout",
     "output_type": "stream",
     "text": [
      "True\n"
     ]
    }
   ],
   "source": [
    "from queue import Queue\n",
    "\n",
    "\n",
    "def check_queue_order(queue):\n",
    "    stack = []\n",
    "    destination_queue = Queue()\n",
    "    expected_element = 1\n",
    "\n",
    "    while not queue.empty():\n",
    "        if queue.queue[0] == expected_element:\n",
    "            destination_queue.put(queue.get())\n",
    "            expected_element += 1\n",
    "        elif stack and stack[-1] == expected_element:\n",
    "            destination_queue.put(stack.pop())\n",
    "            expected_element += 1\n",
    "        else:\n",
    "            stack.append(queue.get())\n",
    "\n",
    "    while stack:\n",
    "        if stack[-1] == expected_element:\n",
    "            destination_queue.put(stack.pop())\n",
    "            expected_element += 1\n",
    "        else:\n",
    "            return False\n",
    "\n",
    "    for i in range(1, destination_queue.qsize() + 1):\n",
    "        if destination_queue.queue[i - 1] != i:\n",
    "            return False\n",
    "\n",
    "    return True\n",
    "\n",
    "\n",
    "# Example usage:\n",
    "given_queue = Queue()\n",
    "given_queue.put(3)\n",
    "given_queue.put(1)\n",
    "given_queue.put(2)\n",
    "\n",
    "is_increasing_order = check_queue_order(given_queue)\n",
    "print(is_increasing_order)\n",
    "  "
   ]
  },
  {
   "cell_type": "markdown",
   "id": "ac76e77b",
   "metadata": {},
   "source": [
    "💡 **Question 5**\n",
    "\n",
    "Given a number , write a program to reverse this number using stack.\n",
    "Input : 365\n",
    "Output : 563"
   ]
  },
  {
   "cell_type": "code",
   "execution_count": 6,
   "id": "d516f6f1",
   "metadata": {},
   "outputs": [
    {
     "name": "stdout",
     "output_type": "stream",
     "text": [
      "563\n"
     ]
    }
   ],
   "source": [
    "def reverse_number(number):\n",
    "    number_str = str(number)\n",
    "    stack = []\n",
    "\n",
    "    # Push each digit onto the stack\n",
    "    for digit in number_str:\n",
    "        stack.append(digit)\n",
    "\n",
    "    reversed_number_str = ''\n",
    "\n",
    "    # Pop each digit from the stack and append to the reversed number string\n",
    "    while stack:\n",
    "        reversed_number_str += stack.pop()\n",
    "\n",
    "    reversed_number = int(reversed_number_str)\n",
    "\n",
    "    return reversed_number\n",
    "number = 365\n",
    "reversed_number = reverse_number(number)\n",
    "print(reversed_number)"
   ]
  },
  {
   "cell_type": "markdown",
   "id": "fb443d68",
   "metadata": {},
   "source": [
    "💡 **Question 6**\n",
    "\n",
    "Given an integer k and a **[queue](https://www.geeksforgeeks.org/queue-data-structure/)** of integers, The task is to reverse the order of the first **k** elements of the queue, leaving the other elements in the same relative order.\n",
    "\n",
    "Only following standard operations are allowed on queue.\n",
    "\n",
    "- **enqueue(x) :** Add an item x to rear of queue\n",
    "- **dequeue() :** Remove an item from front of queue\n",
    "- **size() :** Returns number of elements in queue.\n",
    "- **front() :** Finds front item."
   ]
  },
  {
   "cell_type": "code",
   "execution_count": 7,
   "id": "c4609b41",
   "metadata": {},
   "outputs": [
    {
     "name": "stdout",
     "output_type": "stream",
     "text": [
      "3\n",
      "2\n",
      "1\n",
      "4\n",
      "5\n"
     ]
    }
   ],
   "source": [
    "from queue import Queue\n",
    "\n",
    "\n",
    "def reverse_k_elements(queue, k):\n",
    "    stack = []\n",
    "\n",
    "    # Dequeue the first k elements and push them onto the stack\n",
    "    for _ in range(k):\n",
    "        stack.append(queue.get())\n",
    "\n",
    "    new_queue = Queue()\n",
    "\n",
    "    # Enqueue the elements from the stack into the new queue\n",
    "    while stack:\n",
    "        new_queue.put(stack.pop())\n",
    "\n",
    "    # Enqueue the remaining elements from the original queue into the new queue\n",
    "    while not queue.empty():\n",
    "        new_queue.put(queue.get())\n",
    "\n",
    "    return new_queue\n",
    "\n",
    "\n",
    "# Example usage:\n",
    "queue = Queue()\n",
    "queue.put(1)\n",
    "queue.put(2)\n",
    "queue.put(3)\n",
    "queue.put(4)\n",
    "queue.put(5)\n",
    "\n",
    "k = 3\n",
    "\n",
    "reversed_queue = reverse_k_elements(queue, k)\n",
    "\n",
    "\n",
    "while not reversed_queue.empty():\n",
    "    print(reversed_queue.get())\n"
   ]
  },
  {
   "cell_type": "markdown",
   "id": "73233240",
   "metadata": {},
   "source": [
    "\n",
    "💡 **Question 7**\n",
    "\n",
    "Given a sequence of n strings, the task is to check if any two similar words come together and then destroy each other then print the number of words left in the sequence after this pairwise destruction.\n",
    "\n",
    "**Examples:**\n",
    "\n",
    "Input : ab aa aa bcd ab\n",
    "\n",
    "Output : 3\n",
    "\n",
    "*As aa, aa destroys each other so,*\n",
    "\n",
    "*ab bcd ab is the new sequence.*\n",
    "\n",
    "Input :  tom jerry jerry tom\n",
    "\n",
    "Output : 0\n",
    "\n",
    "*As first both jerry will destroy each other.*\n",
    "\n",
    "*Then sequence will be tom, tom they will also destroy*\n",
    "\n",
    "*each other. So, the final sequence doesn’t contain any*\n",
    "\n",
    "*word.*\n"
   ]
  },
  {
   "cell_type": "code",
   "execution_count": 1,
   "id": "46b4b58c",
   "metadata": {},
   "outputs": [
    {
     "name": "stdout",
     "output_type": "stream",
     "text": [
      "Enter the sequence of words: ab aa aa bcd ab\n",
      "Number of words left after pairwise destruction: 3\n"
     ]
    }
   ],
   "source": [
    "def check_pairwise_destruction(sequence):\n",
    "    stack = []\n",
    "    \n",
    "    for word in sequence:\n",
    "        if len(stack) > 0 and stack[-1] == word:\n",
    "            stack.pop()\n",
    "        else:\n",
    "            stack.append(word)\n",
    "    \n",
    "    return len(stack)\n",
    "sequence = input(\"Enter the sequence of words: \").split()\n",
    "remaining_words = check_pairwise_destruction(sequence)\n",
    "print(\"Number of words left after pairwise destruction:\", remaining_words)"
   ]
  },
  {
   "cell_type": "markdown",
   "id": "6eb54cd7",
   "metadata": {},
   "source": [
    "💡 **Question 8**\n",
    "\n",
    "Given an array of integers, the task is to find the maximum absolute difference between the nearest left and the right smaller element of every element in the array.\n",
    "\n",
    "**Note:** If there is no smaller element on right side or left side of any element then we take zero as the smaller element. For example for the leftmost element, the nearest smaller element on the left side is considered as 0. Similarly, for rightmost elements, the smaller element on the right side is considered as 0."
   ]
  },
  {
   "cell_type": "code",
   "execution_count": 2,
   "id": "c09d5690",
   "metadata": {},
   "outputs": [
    {
     "name": "stdout",
     "output_type": "stream",
     "text": [
      "Maximum absolute difference: 6\n"
     ]
    }
   ],
   "source": [
    "def max_absolute_difference(arr):\n",
    "    n = len(arr)\n",
    "    left_smaller = [0] * n\n",
    "    right_smaller = [0] * n\n",
    "    stack = []\n",
    "\n",
    "    # Finding nearest smaller element on the left side\n",
    "    for i in range(n):\n",
    "        while stack and stack[-1] >= arr[i]:\n",
    "            stack.pop()\n",
    "        if stack:\n",
    "            left_smaller[i] = stack[-1]\n",
    "        stack.append(arr[i])\n",
    "\n",
    "    stack = []\n",
    "\n",
    "    # Finding nearest smaller element on the right side\n",
    "    for i in range(n - 1, -1, -1):\n",
    "        while stack and stack[-1] >= arr[i]:\n",
    "            stack.pop()\n",
    "        if stack:\n",
    "            right_smaller[i] = stack[-1]\n",
    "        stack.append(arr[i])\n",
    "\n",
    "    max_diff = 0\n",
    "    for i in range(n):\n",
    "        diff = abs(left_smaller[i] - right_smaller[i])\n",
    "        max_diff = max(max_diff, diff)\n",
    "\n",
    "    return max_diff\n",
    "\n",
    "arr = [2, 1, 8, 7, 6, 5]\n",
    "max_diff = max_absolute_difference(arr)\n",
    "print(\"Maximum absolute difference:\", max_diff)"
   ]
  }
 ],
 "metadata": {
  "kernelspec": {
   "display_name": "Python 3 (ipykernel)",
   "language": "python",
   "name": "python3"
  },
  "language_info": {
   "codemirror_mode": {
    "name": "ipython",
    "version": 3
   },
   "file_extension": ".py",
   "mimetype": "text/x-python",
   "name": "python",
   "nbconvert_exporter": "python",
   "pygments_lexer": "ipython3",
   "version": "3.9.12"
  }
 },
 "nbformat": 4,
 "nbformat_minor": 5
}
