{
 "cells": [
  {
   "cell_type": "markdown",
   "id": "83126062",
   "metadata": {},
   "source": [
    "## Sharanya Manohar\n",
    "### DSA-10(Recursion)-Python"
   ]
  },
  {
   "cell_type": "markdown",
   "id": "2b43e38a",
   "metadata": {},
   "source": [
    "💡 **Question 1**\n",
    "\n",
    "Given an integer `n`, return *`true` if it is a power of three. Otherwise, return `false`*.\n",
    "\n",
    "An integer `n` is a power of three, if there exists an integer `x` such that `n == 3x`."
   ]
  },
  {
   "cell_type": "code",
   "execution_count": 86,
   "id": "10644bec",
   "metadata": {},
   "outputs": [
    {
     "data": {
      "text/plain": [
       "True"
      ]
     },
     "execution_count": 86,
     "metadata": {},
     "output_type": "execute_result"
    }
   ],
   "source": [
    "def is_power_of_three(n):\n",
    "    if n == 0 or n==-1:\n",
    "        return False\n",
    "    while n % 3 == 0:\n",
    "        n = n / 3\n",
    "        return True\n",
    "   \n",
    "is_power_of_three(27)"
   ]
  },
  {
   "cell_type": "markdown",
   "id": "4c1ff452",
   "metadata": {},
   "source": [
    "💡 **Question 2**\n",
    "\n",
    "You have a list `arr` of all integers in the range `[1, n]` sorted in a strictly increasing order. Apply the following algorithm on `arr`:\n",
    "\n",
    "- Starting from left to right, remove the first number and every other number afterward until you reach the end of the list.\n",
    "- Repeat the previous step again, but this time from right to left, remove the rightmost number and every other number from the remaining numbers.\n",
    "- Keep repeating the steps again, alternating left to right and right to left, until a single number remains.\n",
    "\n",
    "Given the integer `n`, return *the last number that remains in* `arr`."
   ]
  },
  {
   "cell_type": "code",
   "execution_count": 87,
   "id": "5dc91d1a",
   "metadata": {},
   "outputs": [
    {
     "name": "stdout",
     "output_type": "stream",
     "text": [
      "2\n"
     ]
    }
   ],
   "source": [
    "def lastRemaining(n):\n",
    "    arr = list(range(1, n + 1)) \n",
    "    left_to_right = True  \n",
    "\n",
    "    while len(arr) > 1:\n",
    "        if left_to_right:\n",
    "            arr = arr[1::2]  \n",
    "        else:\n",
    "            arr = arr[-2::-2]  \n",
    "\n",
    "        left_to_right = not left_to_right  \n",
    "\n",
    "    return arr[0] \n",
    "n = 9\n",
    "result = lastRemaining(n)\n",
    "print(result) "
   ]
  },
  {
   "cell_type": "markdown",
   "id": "963c3cc2",
   "metadata": {},
   "source": [
    "💡 **Question 3**\n",
    "\n",
    "****Given a set represented as a string, write a recursive code to print all subsets of it. The subsets can be printed in any order.\n",
    "\n",
    "**Example 1:**\n",
    "\n",
    "Input :  set = “abc”\n",
    "\n",
    "Output : { “”, “a”, “b”, “c”, “ab”, “ac”, “bc”, “abc”}\n",
    "\n",
    "**Example 2:**\n",
    "\n",
    "Input : set = “abcd”\n",
    "\n",
    "Output : { “”, “a” ,”ab” ,”abc” ,”abcd”, “abd” ,”ac” ,”acd”, “ad” ,”b”, “bc” ,”bcd” ,”bd” ,”c” ,”cd” ,”d” }"
   ]
  },
  {
   "cell_type": "code",
   "execution_count": 88,
   "id": "9ba5e4e5",
   "metadata": {},
   "outputs": [
    {
     "name": "stdout",
     "output_type": "stream",
     "text": [
      "['', 'a', 'ab', 'abc', 'ac', 'b', 'bc', 'c']\n"
     ]
    }
   ],
   "source": [
    "def printSubsets(set_str):\n",
    "    subsets = []  \n",
    "\n",
    "    def backtrack(subset, index):\n",
    "        subsets.append(subset)  \n",
    "\n",
    "        for i in range(index, len(set_str)):\n",
    "           \n",
    "            backtrack(subset + set_str[i], i + 1)\n",
    "\n",
    "    backtrack(\"\", 0)  \n",
    "\n",
    "    return subsets\n",
    "\n",
    "set_str = \"abc\"\n",
    "result = printSubsets(set_str)\n",
    "print(result) "
   ]
  },
  {
   "cell_type": "markdown",
   "id": "df76c0f9",
   "metadata": {},
   "source": [
    "💡 **Question 4**\n",
    "\n",
    "Given a string calculate length of the string using recursion."
   ]
  },
  {
   "cell_type": "code",
   "execution_count": 89,
   "id": "78ccf2a3",
   "metadata": {},
   "outputs": [
    {
     "name": "stdout",
     "output_type": "stream",
     "text": [
      "13\n"
     ]
    }
   ],
   "source": [
    "def calculateLength(string):\n",
    "    if string == \"\":\n",
    "        return 0\n",
    "   \n",
    "    return 1 + calculateLength(string[1:])\n",
    "string = \"Hello, World!\"\n",
    "length = calculateLength(string)\n",
    "print(length) "
   ]
  },
  {
   "cell_type": "markdown",
   "id": "ac76e77b",
   "metadata": {},
   "source": [
    "💡 **Question 5**\n",
    "\n",
    "We are given a string S, we need to find count of all contiguous substrings starting and ending with same character."
   ]
  },
  {
   "cell_type": "code",
   "execution_count": 90,
   "id": "d516f6f1",
   "metadata": {},
   "outputs": [
    {
     "name": "stdout",
     "output_type": "stream",
     "text": [
      "7\n"
     ]
    }
   ],
   "source": [
    "def countContiguousSubstrings(S):\n",
    "    count = 0\n",
    "\n",
    "    for i in range(len(S)):\n",
    "        for j in range(i, len(S)):\n",
    "            if S[i] == S[j]:\n",
    "                count += 1\n",
    "\n",
    "    return count\n",
    "S = \"abcab\"\n",
    "result = countContiguousSubstrings(S)\n",
    "print(result) "
   ]
  },
  {
   "cell_type": "markdown",
   "id": "fb443d68",
   "metadata": {},
   "source": [
    "💡 **Question 6**\n",
    "\n",
    "The [tower of Hanoi](https://en.wikipedia.org/wiki/Tower_of_Hanoi) is a famous puzzle where we have three rods and **N** disks. The objective of the puzzle is to move the entire stack to another rod. You are given the number of discs **N**. Initially, these discs are in the rod 1. You need to print all the steps of discs movement so that all the discs reach the 3rd rod. Also, you need to find the total moves.**Note:** The discs are arranged such that the **top disc is numbered 1** and the **bottom-most disc is numbered N**. Also, all the discs have **different sizes** and a bigger disc **cannot** be put on the top of a smaller disc. Refer the provided link to get a better clarity about the puzzle."
   ]
  },
  {
   "cell_type": "code",
   "execution_count": 91,
   "id": "c4609b41",
   "metadata": {},
   "outputs": [
    {
     "name": "stdout",
     "output_type": "stream",
     "text": [
      "Total moves: 7\n",
      "Steps to solve the Tower of Hanoi puzzle:\n",
      "Move disk 1 from rod 1 to rod 3\n",
      "Move disk 2 from rod 1 to rod 2\n",
      "Move disk 1 from rod 3 to rod 2\n",
      "Move disk 3 from rod 1 to rod 3\n",
      "Move disk 1 from rod 2 to rod 1\n",
      "Move disk 2 from rod 2 to rod 3\n",
      "Move disk 1 from rod 1 to rod 3\n"
     ]
    }
   ],
   "source": [
    "def towerOfHanoi(n, source, destination, auxiliary):\n",
    "    if n > 0:\n",
    "        \n",
    "        towerOfHanoi(n-1, source, auxiliary, destination)\n",
    "        \n",
    "       \n",
    "        print(f\"Move disk {n} from rod {source} to rod {destination}\")\n",
    "        \n",
    "        \n",
    "        towerOfHanoi(n-1, auxiliary, destination, source)\n",
    "\n",
    "def towerOfHanoiSteps(n):\n",
    "    moves = [0]  # A list to keep track of the number of moves\n",
    "\n",
    "    def helper(n, source, destination, auxiliary):\n",
    "        if n > 0:\n",
    "            helper(n-1, source, auxiliary, destination)\n",
    "            \n",
    "            moves[0] += 1  # Increment the number of moves\n",
    "            \n",
    "            helper(n-1, auxiliary, destination, source)\n",
    "\n",
    "    helper(n, 1, 3, 2)\n",
    "    return moves[0]\n",
    "\n",
    "# Test the functions\n",
    "n = 3\n",
    "total_moves = towerOfHanoiSteps(n)\n",
    "print(f\"Total moves: {total_moves}\")\n",
    "print(\"Steps to solve the Tower of Hanoi puzzle:\")\n",
    "towerOfHanoi(n, 1, 3, 2)\n"
   ]
  },
  {
   "cell_type": "markdown",
   "id": "73233240",
   "metadata": {},
   "source": [
    "💡 **Question 7**\n",
    "\n",
    "Given a string **str**, the task is to print all the permutations of **str**. A **permutation** is an arrangement of all or part of a set of objects, with regard to the order of the arrangement. For instance, the words ‘bat’ and ‘tab’ represents two distinct permutation (or arrangements) of a similar three letter word."
   ]
  },
  {
   "cell_type": "code",
   "execution_count": 92,
   "id": "46b4b58c",
   "metadata": {},
   "outputs": [
    {
     "name": "stdout",
     "output_type": "stream",
     "text": [
      "Permutations of abc:\n",
      "abc\n",
      "acb\n",
      "bac\n",
      "bca\n",
      "cba\n",
      "cab\n"
     ]
    }
   ],
   "source": [
    "def permute(s, l, r):\n",
    "    if l == r:\n",
    "        print(\"\".join(s))\n",
    "    else:\n",
    "        for i in range(l, r + 1):\n",
    "            s[l], s[i] = s[i], s[l]  \n",
    "            permute(s, l + 1, r)    \n",
    "            s[l], s[i] = s[i], s[l]  \n",
    "\n",
    "def printPermutations(string):\n",
    "    n = len(string)\n",
    "    s = list(string)\n",
    "    permute(s, 0, n - 1)\n",
    "\n",
    "string = \"abc\"\n",
    "print(\"Permutations of\", string + \":\")\n",
    "printPermutations(string)"
   ]
  },
  {
   "cell_type": "markdown",
   "id": "6eb54cd7",
   "metadata": {},
   "source": [
    "💡 **Question 8**\n",
    "\n",
    "Given a string, count total number of consonants in it. A consonant is an English alphabet character that is not vowel (a, e, i, o and u). Examples of constants are b, c, d, f, and g."
   ]
  },
  {
   "cell_type": "code",
   "execution_count": 93,
   "id": "c09d5690",
   "metadata": {},
   "outputs": [
    {
     "name": "stdout",
     "output_type": "stream",
     "text": [
      "Total number of consonants in the string: 7\n"
     ]
    }
   ],
   "source": [
    "def countConsonants(string):\n",
    "    consonants = \"bcdfghjklmnpqrstvwxyzBCDFGHJKLMNPQRSTVWXYZ\"\n",
    "    count = 0\n",
    "\n",
    "    for char in string:\n",
    "        if char in consonants:\n",
    "            count += 1\n",
    "\n",
    "    return count\n",
    "\n",
    "string = \"Hello World\"\n",
    "consonantCount = countConsonants(string)\n",
    "print(\"Total number of consonants in the string:\", consonantCount)\n"
   ]
  }
 ],
 "metadata": {
  "kernelspec": {
   "display_name": "Python 3 (ipykernel)",
   "language": "python",
   "name": "python3"
  },
  "language_info": {
   "codemirror_mode": {
    "name": "ipython",
    "version": 3
   },
   "file_extension": ".py",
   "mimetype": "text/x-python",
   "name": "python",
   "nbconvert_exporter": "python",
   "pygments_lexer": "ipython3",
   "version": "3.9.12"
  }
 },
 "nbformat": 4,
 "nbformat_minor": 5
}
