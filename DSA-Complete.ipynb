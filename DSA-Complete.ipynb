{
 "cells": [
  {
   "cell_type": "markdown",
   "id": "fcdd078e",
   "metadata": {},
   "source": [
    "## M.Sharanya\n",
    "## DSA complete"
   ]
  },
  {
   "cell_type": "markdown",
   "id": "060b6608",
   "metadata": {},
   "source": [
    "1. Write a Python program to reverse a string without using any built-in string reversal functions."
   ]
  },
  {
   "cell_type": "code",
   "execution_count": 10,
   "id": "84857f15",
   "metadata": {},
   "outputs": [
    {
     "name": "stdout",
     "output_type": "stream",
     "text": [
      "Reversed string: dcba\n"
     ]
    }
   ],
   "source": [
    "def reverse_string(s):\n",
    "    reversed_s = \"\"\n",
    "    for i in range(len(s)-1, -1, -1):\n",
    "        reversed_s += s[i]\n",
    "    return reversed_s\n",
    "\n",
    "s = \"abcd\"\n",
    "reversed_s = reverse_string(s)\n",
    "print(\"Reversed string:\", reversed_s)"
   ]
  },
  {
   "cell_type": "markdown",
   "id": "5b42e73a",
   "metadata": {},
   "source": [
    "2. Implement a function to check if a given string is a palindrome."
   ]
  },
  {
   "cell_type": "code",
   "execution_count": 13,
   "id": "f5d2222d",
   "metadata": {},
   "outputs": [
    {
     "name": "stdout",
     "output_type": "stream",
     "text": [
      "True\n",
      "True\n",
      "False\n"
     ]
    }
   ],
   "source": [
    "def is_palindrome(string):\n",
    "    \n",
    "    string = ''.join(c.lower() for c in string if c.isalnum())\n",
    "    \n",
    "    return string == string[::-1]\n",
    "\n",
    "string1 = \"A man, a plan, a canal: Panama\"\n",
    "print(is_palindrome(string1))  \n",
    "\n",
    "string2 = \"race car\"\n",
    "print(is_palindrome(string2)) \n",
    "\n",
    "string3 = \"hello world\"\n",
    "print(is_palindrome(string3)) "
   ]
  },
  {
   "cell_type": "markdown",
   "id": "697fd840",
   "metadata": {},
   "source": [
    "3. Write a program to find the largest element in a given list."
   ]
  },
  {
   "cell_type": "code",
   "execution_count": 14,
   "id": "3e56d354",
   "metadata": {},
   "outputs": [
    {
     "name": "stdout",
     "output_type": "stream",
     "text": [
      "Largest element: 20\n"
     ]
    }
   ],
   "source": [
    "def find_largest_element(lst):\n",
    "    if len(lst) == 0:\n",
    "        return None\n",
    "#we are initializing the 1st element as largest elemnt and then comparring with every element that whether it is greater or not\n",
    "    largest = lst[0] \n",
    "\n",
    "    for num in lst:\n",
    "        if num > largest:\n",
    "            largest = num\n",
    "\n",
    "    return largest\n",
    "numbers = [10, 5, 20, 8, 15]\n",
    "largest_number = find_largest_element(numbers)\n",
    "print(\"Largest element:\", largest_number) "
   ]
  },
  {
   "cell_type": "markdown",
   "id": "b9039435",
   "metadata": {},
   "source": [
    "4. Implement a function to count the occurrence of each element in a list."
   ]
  },
  {
   "cell_type": "code",
   "execution_count": 36,
   "id": "7a356ffe",
   "metadata": {},
   "outputs": [
    {
     "name": "stdout",
     "output_type": "stream",
     "text": [
      "{1: 3, 2: 3, 3: 2, 4: 4}\n"
     ]
    }
   ],
   "source": [
    "def count_occurrences(lst):\n",
    "    occurrence_count = {}\n",
    "    for item in lst:\n",
    "        if item in occurrence_count:\n",
    "            occurrence_count[item] += 1\n",
    "        else:\n",
    "            occurrence_count[item] = 1\n",
    "    return occurrence_count\n",
    "my_list = [1, 2, 3, 2, 1, 3, 4, 2, 1, 4, 4, 4]\n",
    "occurrences = count_occurrences(my_list)\n",
    "print(occurrences)"
   ]
  },
  {
   "cell_type": "markdown",
   "id": "a2c11f08",
   "metadata": {},
   "source": [
    "5. Write a Python program to find the second largest number in a list."
   ]
  },
  {
   "cell_type": "code",
   "execution_count": 35,
   "id": "d63e0eab",
   "metadata": {},
   "outputs": [
    {
     "name": "stdout",
     "output_type": "stream",
     "text": [
      "9\n"
     ]
    }
   ],
   "source": [
    "def find_second_largest(numbers):\n",
    "    if len(numbers) < 2:\n",
    "        return None\n",
    "    \n",
    "    largest = max(numbers[0], numbers[1])\n",
    "    second_largest = min(numbers[0], numbers[1])\n",
    "    \n",
    "    for num in numbers[2:]:\n",
    "        if num > largest:\n",
    "            second_largest = largest\n",
    "            largest = num\n",
    "        elif num > second_largest and num != largest:\n",
    "            second_largest = num\n",
    "    \n",
    "    return second_largest\n",
    "\n",
    "my_list = [10, 5, 7, 8, 2, 9]\n",
    "second_largest = find_second_largest(my_list)\n",
    "print(second_largest)"
   ]
  },
  {
   "cell_type": "markdown",
   "id": "0b1bb0ed",
   "metadata": {},
   "source": [
    "6. Implement a function to remove duplicate elements from a list."
   ]
  },
  {
   "cell_type": "code",
   "execution_count": 34,
   "id": "daa1da16",
   "metadata": {},
   "outputs": [
    {
     "data": {
      "text/plain": [
       "[1, 2, 3, 4]"
      ]
     },
     "execution_count": 34,
     "metadata": {},
     "output_type": "execute_result"
    }
   ],
   "source": [
    "s=[1,2,3,4,2,1]\n",
    "list(set(s))"
   ]
  },
  {
   "cell_type": "markdown",
   "id": "16b8667b",
   "metadata": {},
   "source": [
    "7. Write a program to calculate the factorial of a given number."
   ]
  },
  {
   "cell_type": "code",
   "execution_count": 22,
   "id": "ccd5b635",
   "metadata": {},
   "outputs": [
    {
     "name": "stdout",
     "output_type": "stream",
     "text": [
      "Factorial of 5 is 120\n"
     ]
    }
   ],
   "source": [
    "def fact(n):\n",
    "    factorial = 1\n",
    "    \n",
    "    for i in range(1, n+1):\n",
    "        factorial *= i\n",
    "    \n",
    "    return factorial\n",
    "\n",
    "number = 5\n",
    "factorial = fact(number)\n",
    "print(\"Factorial of\", number, \"is\", factorial)       "
   ]
  },
  {
   "cell_type": "markdown",
   "id": "159b5c5e",
   "metadata": {},
   "source": [
    "8. Implement a function to check if a given number is prime."
   ]
  },
  {
   "cell_type": "code",
   "execution_count": 33,
   "id": "55373617",
   "metadata": {},
   "outputs": [
    {
     "name": "stdout",
     "output_type": "stream",
     "text": [
      "23 is prime\n"
     ]
    }
   ],
   "source": [
    "def is_prime(n):\n",
    "    if n <= 1:\n",
    "        return False\n",
    "\n",
    "    for i in range(2, int(n**0.5) + 1):\n",
    "        if n % i == 0:\n",
    "            return False\n",
    "\n",
    "    return True\n",
    "n = 23\n",
    "if is_prime(n):\n",
    "    print(n, \"is prime\")\n",
    "else:\n",
    "    print(n, \"is not prime\")"
   ]
  },
  {
   "cell_type": "markdown",
   "id": "46179701",
   "metadata": {},
   "source": [
    "9. Write a Python program to sort a list of integers in ascending order."
   ]
  },
  {
   "cell_type": "code",
   "execution_count": 29,
   "id": "5d28197d",
   "metadata": {},
   "outputs": [
    {
     "name": "stdout",
     "output_type": "stream",
     "text": [
      "[1, 2, 3, 5, 8, 9]\n"
     ]
    }
   ],
   "source": [
    "numbers = [5, 2, 8, 1, 9, 3]\n",
    "numbers.sort()\n",
    "print(numbers)"
   ]
  },
  {
   "cell_type": "markdown",
   "id": "9e18fb36",
   "metadata": {},
   "source": [
    "10. Implement a function to find the sum of all numbers in a list."
   ]
  },
  {
   "cell_type": "code",
   "execution_count": 28,
   "id": "34c1d7ee",
   "metadata": {},
   "outputs": [
    {
     "data": {
      "text/plain": [
       "14"
      ]
     },
     "execution_count": 28,
     "metadata": {},
     "output_type": "execute_result"
    }
   ],
   "source": [
    "s=0\n",
    "l=[2,3,4,5]\n",
    "for i in l:\n",
    "    s+=i\n",
    "s    "
   ]
  },
  {
   "cell_type": "markdown",
   "id": "afd215a7",
   "metadata": {},
   "source": [
    "11. Write a program to find the common elements between two lists."
   ]
  },
  {
   "cell_type": "code",
   "execution_count": 27,
   "id": "b3eef2cc",
   "metadata": {},
   "outputs": [
    {
     "name": "stdout",
     "output_type": "stream",
     "text": [
      "2\n"
     ]
    }
   ],
   "source": [
    "l=[1,2,3,4]\n",
    "l1=[2,6,7,8]\n",
    "for i in l:\n",
    "    if i in l1:\n",
    "        print(i)"
   ]
  },
  {
   "cell_type": "markdown",
   "id": "9b20efab",
   "metadata": {},
   "source": [
    "12. Implement a function to check if a given string is an anagram of another string."
   ]
  },
  {
   "cell_type": "code",
   "execution_count": 43,
   "id": "729998ec",
   "metadata": {},
   "outputs": [
    {
     "name": "stdout",
     "output_type": "stream",
     "text": [
      "The strings are anagrams.\n"
     ]
    }
   ],
   "source": [
    "def is_anagram(str1, str2):\n",
    "    str1 = str1.replace(' ', '').lower()\n",
    "    str2 = str2.replace(' ', '').lower()\n",
    "\n",
    "    if len(str1) != len(str2):\n",
    "        return False\n",
    "\n",
    "    sorted_str1 = sorted(str1)\n",
    "    sorted_str2 = sorted(str2)\n",
    "\n",
    "    \n",
    "    if sorted_str1 == sorted_str2:\n",
    "        return True\n",
    "    else:\n",
    "        return False\n",
    "\n",
    "string1 = \"listen\"\n",
    "string2 = \"silent\"\n",
    "if is_anagram(string1, string2):\n",
    "    print(\"The strings are anagrams.\")\n",
    "else:\n",
    "    print(\"The strings are not anagrams.\")"
   ]
  },
  {
   "cell_type": "markdown",
   "id": "ecb296d6",
   "metadata": {},
   "source": [
    "13. Write a Python program to generate all permutations of a given string."
   ]
  },
  {
   "cell_type": "code",
   "execution_count": 41,
   "id": "2d840755",
   "metadata": {},
   "outputs": [
    {
     "name": "stdout",
     "output_type": "stream",
     "text": [
      "abc\n",
      "acb\n",
      "bac\n",
      "bca\n",
      "cab\n",
      "cba\n"
     ]
    }
   ],
   "source": [
    "from itertools import permutations\n",
    "\n",
    "def generate_permutations(string):\n",
    "    chars = list(string)\n",
    "    \n",
    "    perms = permutations(chars)\n",
    "    \n",
    "    for perm in perms:\n",
    "        perm_string = ''.join(perm)\n",
    "        print(perm_string)\n",
    "\n",
    "string = \"abc\"\n",
    "generate_permutations(string)\n"
   ]
  },
  {
   "cell_type": "markdown",
   "id": "dc17f2ab",
   "metadata": {},
   "source": [
    "14. Implement a function to calculate the Fibonacci sequence up to a given number of terms."
   ]
  },
  {
   "cell_type": "code",
   "execution_count": 42,
   "id": "5c589e24",
   "metadata": {},
   "outputs": [
    {
     "name": "stdout",
     "output_type": "stream",
     "text": [
      "[0, 1, 1, 2, 3, 5, 8, 13, 21, 34]\n"
     ]
    }
   ],
   "source": [
    "def fibonacci(n):\n",
    "    if n <= 0:\n",
    "        return []\n",
    "    elif n == 1:\n",
    "        return [0]\n",
    "    elif n == 2:\n",
    "        return [0, 1]\n",
    "    else:\n",
    "        sequence = fibonacci(n - 1)\n",
    "        next_term = sequence[-1] + sequence[-2]\n",
    "        sequence.append(next_term)\n",
    "        return sequence\n",
    "n_terms = 10\n",
    "fib_sequence = fibonacci(n_terms)\n",
    "print(fib_sequence)"
   ]
  },
  {
   "cell_type": "markdown",
   "id": "c06e25dd",
   "metadata": {},
   "source": [
    "15. Write a program to find the median of a list of numbers."
   ]
  },
  {
   "cell_type": "code",
   "execution_count": 44,
   "id": "7d0d4541",
   "metadata": {},
   "outputs": [
    {
     "name": "stdout",
     "output_type": "stream",
     "text": [
      "Median: 4\n"
     ]
    }
   ],
   "source": [
    "def find_median(numbers):\n",
    "    sorted_numbers = sorted(numbers)\n",
    "    n = len(sorted_numbers)\n",
    "    \n",
    "    if n % 2 == 0:\n",
    "        # If the number of elements is even, average the middle two numbers\n",
    "        mid_index_1 = n // 2 - 1\n",
    "        mid_index_2 = n // 2\n",
    "        median = (sorted_numbers[mid_index_1] + sorted_numbers[mid_index_2]) / 2\n",
    "    else:\n",
    "        # If the number of elements is odd, the middle number is the median\n",
    "        mid_index = n // 2\n",
    "        median = sorted_numbers[mid_index]\n",
    "    \n",
    "    return median\n",
    "\n",
    "# Example usage\n",
    "numbers = [7, 2, 1, 6, 4, 5, 3]\n",
    "median = find_median(numbers)\n",
    "print(\"Median:\", median)"
   ]
  },
  {
   "cell_type": "markdown",
   "id": "05b3e1dd",
   "metadata": {},
   "source": [
    "16. Implement a function to check if a given list is sorted in non-decreasing order."
   ]
  },
  {
   "cell_type": "code",
   "execution_count": 45,
   "id": "5ae50bcd",
   "metadata": {},
   "outputs": [
    {
     "name": "stdout",
     "output_type": "stream",
     "text": [
      "True\n",
      "False\n"
     ]
    }
   ],
   "source": [
    "def is_sorted(numbers):\n",
    "    n = len(numbers)\n",
    "    \n",
    "    for i in range(1, n):\n",
    "        if numbers[i] < numbers[i-1]:\n",
    "            return False\n",
    "    \n",
    "    return True\n",
    "list1 = [1, 2, 3, 4, 5]\n",
    "print(is_sorted(list1))  \n",
    "\n",
    "list2 = [5, 4, 3, 2, 1]\n",
    "print(is_sorted(list2))  "
   ]
  },
  {
   "cell_type": "markdown",
   "id": "f41be1aa",
   "metadata": {},
   "source": [
    "17. Write a Python program to find the intersection of two lists."
   ]
  },
  {
   "cell_type": "code",
   "execution_count": 46,
   "id": "86c44b39",
   "metadata": {},
   "outputs": [
    {
     "name": "stdout",
     "output_type": "stream",
     "text": [
      "[4, 5]\n"
     ]
    }
   ],
   "source": [
    "def find_intersection(list1, list2):\n",
    "    intersection = list(set(list1) & set(list2))\n",
    "    return intersection\n",
    "\n",
    "list1 = [1, 2, 3, 4, 5]\n",
    "list2 = [4, 5, 6, 7, 8]\n",
    "intersection = find_intersection(list1, list2)\n",
    "print(intersection) "
   ]
  },
  {
   "cell_type": "markdown",
   "id": "5e4e41cd",
   "metadata": {},
   "source": [
    "18. Implement a function to find the maximum subarray sum in a given list"
   ]
  },
  {
   "cell_type": "code",
   "execution_count": 47,
   "id": "07f280d3",
   "metadata": {},
   "outputs": [
    {
     "name": "stdout",
     "output_type": "stream",
     "text": [
      "6\n"
     ]
    }
   ],
   "source": [
    "def max_subarray_sum(arr):\n",
    "    if len(arr) == 0:\n",
    "        return 0\n",
    "\n",
    "    max_sum = arr[0]\n",
    "    current_sum = arr[0]\n",
    "\n",
    "    for i in range(1, len(arr)):\n",
    "        current_sum = max(arr[i], current_sum + arr[i])\n",
    "        max_sum = max(max_sum, current_sum)\n",
    "\n",
    "    return max_sum\n",
    "arr = [-2, 1, -3, 4, -1, 2, 1, -5, 4]\n",
    "max_sum = max_subarray_sum(arr)\n",
    "print(max_sum)  "
   ]
  },
  {
   "cell_type": "markdown",
   "id": "dec03caa",
   "metadata": {},
   "source": [
    "19. Write a program to remove all vowels from a given string."
   ]
  },
  {
   "cell_type": "code",
   "execution_count": 48,
   "id": "b703f360",
   "metadata": {},
   "outputs": [
    {
     "name": "stdout",
     "output_type": "stream",
     "text": [
      "Hll, Wrld!\n"
     ]
    }
   ],
   "source": [
    "def remove_vowels(string):\n",
    "    vowels = ['a', 'e', 'i', 'o', 'u', 'A', 'E', 'I', 'O', 'U']\n",
    "    result = ''\n",
    "\n",
    "    for char in string:\n",
    "        if char not in vowels:\n",
    "            result += char\n",
    "\n",
    "    return result\n",
    "input_string = \"Hello, World!\"\n",
    "output_string = remove_vowels(input_string)\n",
    "print(output_string) "
   ]
  },
  {
   "cell_type": "markdown",
   "id": "7973aa2f",
   "metadata": {},
   "source": [
    "20. Implement a function to reverse the order of words in a given sentence."
   ]
  },
  {
   "cell_type": "code",
   "execution_count": 49,
   "id": "d3af9191",
   "metadata": {},
   "outputs": [
    {
     "name": "stdout",
     "output_type": "stream",
     "text": [
      "Python. to Welcome world! Hello,\n"
     ]
    }
   ],
   "source": [
    "def reverse_sentence(sentence):\n",
    "    words = sentence.split()\n",
    "    reversed_words = words[::-1]\n",
    "    reversed_sentence = ' '.join(reversed_words)\n",
    "    return reversed_sentence\n",
    "input_sentence = \"Hello, world! Welcome to Python.\"\n",
    "output_sentence = reverse_sentence(input_sentence)\n",
    "print(output_sentence) "
   ]
  },
  {
   "cell_type": "markdown",
   "id": "1c2d5f03",
   "metadata": {},
   "source": [
    "21. Write a Python program to check if two strings are anagrams of each other."
   ]
  },
  {
   "cell_type": "code",
   "execution_count": 50,
   "id": "bab10a0c",
   "metadata": {},
   "outputs": [
    {
     "name": "stdout",
     "output_type": "stream",
     "text": [
      "The strings are anagrams.\n"
     ]
    }
   ],
   "source": [
    "def are_anagrams(str1, str2):\n",
    "    str1 = str1.lower()\n",
    "    str2 = str2.lower()\n",
    "\n",
    "    str1 = ''.join(c for c in str1 if c.isalpha())\n",
    "    str2 = ''.join(c for c in str2 if c.isalpha())\n",
    "    \n",
    "    return sorted(str1) == sorted(str2)\n",
    "\n",
    "string1 = \"listen\"\n",
    "string2 = \"silent\"\n",
    "if are_anagrams(string1, string2):\n",
    "    print(\"The strings are anagrams.\")\n",
    "else:\n",
    "    print(\"The strings are not anagrams.\")"
   ]
  },
  {
   "cell_type": "markdown",
   "id": "c453893c",
   "metadata": {},
   "source": [
    "22. Implement a function to find the first non-repeating character in a string."
   ]
  },
  {
   "cell_type": "code",
   "execution_count": 4,
   "id": "a3f83cb1",
   "metadata": {},
   "outputs": [
    {
     "name": "stdout",
     "output_type": "stream",
     "text": [
      "b\n"
     ]
    }
   ],
   "source": [
    "def first_non_repeating_character(string):\n",
    "    char_count = {}\n",
    "    \n",
    "    for char in string:\n",
    "        if char in char_count:\n",
    "            char_count[char] += 1\n",
    "        else:\n",
    "            char_count[char] = 1\n",
    "    \n",
    "    for char in string:\n",
    "        if char_count[char] == 1:\n",
    "            return char\n",
    "    \n",
    "    return None\n",
    "input_string = \"abaccdeff\"\n",
    "result = first_non_repeating_character(input_string)\n",
    "print(result)"
   ]
  },
  {
   "cell_type": "markdown",
   "id": "7a2f6e3b",
   "metadata": {},
   "source": [
    "23. Write a program to find the prime factors of a given number."
   ]
  },
  {
   "cell_type": "code",
   "execution_count": 6,
   "id": "576341f1",
   "metadata": {},
   "outputs": [
    {
     "name": "stdout",
     "output_type": "stream",
     "text": [
      "[2, 2, 3, 5]\n"
     ]
    }
   ],
   "source": [
    "def find_prime_factors(number):\n",
    "    prime_factors = []\n",
    "    divisor = 2\n",
    "\n",
    "    while divisor * divisor <= number:\n",
    "        if number % divisor == 0:\n",
    "            prime_factors.append(divisor)\n",
    "            number //= divisor\n",
    "        else:\n",
    "            divisor += 1\n",
    "\n",
    "    if number > 1:\n",
    "        prime_factors.append(number)\n",
    "\n",
    "    return prime_factors\n",
    "\n",
    "input_number = 60\n",
    "result = find_prime_factors(input_number)\n",
    "print(result) "
   ]
  },
  {
   "cell_type": "markdown",
   "id": "c18e4923",
   "metadata": {},
   "source": [
    "24. Implement a function to check if a given number is a power of two."
   ]
  },
  {
   "cell_type": "code",
   "execution_count": 7,
   "id": "7bdcaf1d",
   "metadata": {},
   "outputs": [
    {
     "name": "stdout",
     "output_type": "stream",
     "text": [
      "True\n",
      "True\n",
      "False\n",
      "False\n",
      "False\n"
     ]
    }
   ],
   "source": [
    "def is_power_of_two(number):\n",
    "    if number <= 0:\n",
    "        return False\n",
    "\n",
    "    while number > 1:\n",
    "        if number % 2 != 0:\n",
    "            return False\n",
    "        number //= 2\n",
    "\n",
    "    return True\n",
    "print(is_power_of_two(4))   \n",
    "print(is_power_of_two(16))  \n",
    "print(is_power_of_two(9))   \n",
    "print(is_power_of_two(0))   \n",
    "print(is_power_of_two(-8))  "
   ]
  },
  {
   "cell_type": "markdown",
   "id": "d699028d",
   "metadata": {},
   "source": [
    "25. Write a Python program to merge two sorted lists into a single sorted list."
   ]
  },
  {
   "cell_type": "code",
   "execution_count": 8,
   "id": "bc2cae0a",
   "metadata": {},
   "outputs": [
    {
     "name": "stdout",
     "output_type": "stream",
     "text": [
      "[1, 2, 3, 4, 5, 6, 7, 8, 9]\n"
     ]
    }
   ],
   "source": [
    "def merge_sorted_lists(list1, list2):\n",
    "    merged_list = []\n",
    "    i = 0 \n",
    "    j = 0 \n",
    "\n",
    "    while i < len(list1) and j < len(list2):\n",
    "        if list1[i] <= list2[j]:\n",
    "            merged_list.append(list1[i])\n",
    "            i += 1\n",
    "        else:\n",
    "            merged_list.append(list2[j])\n",
    "            j += 1\n",
    "    while i < len(list1):\n",
    "        merged_list.append(list1[i])\n",
    "        i += 1\n",
    "    while j < len(list2):\n",
    "        merged_list.append(list2[j])\n",
    "        j += 1\n",
    "\n",
    "    return merged_list\n",
    "list1 = [1, 4, 7, 9]\n",
    "list2 = [2, 3, 5, 6, 8]\n",
    "\n",
    "result = merge_sorted_lists(list1, list2)\n",
    "print(result)  "
   ]
  },
  {
   "cell_type": "markdown",
   "id": "a7769c08",
   "metadata": {},
   "source": [
    "26. Implement a function to find the mode of a list of numbers."
   ]
  },
  {
   "cell_type": "code",
   "execution_count": 9,
   "id": "2ff46d6c",
   "metadata": {},
   "outputs": [
    {
     "name": "stdout",
     "output_type": "stream",
     "text": [
      "2\n"
     ]
    }
   ],
   "source": [
    "from collections import Counter\n",
    "\n",
    "def find_mode(numbers):\n",
    "    counter = Counter(numbers)\n",
    "    mode = counter.most_common(1)[0][0]\n",
    "    return mode\n",
    "numbers = [1, 2, 3, 2, 4, 2, 5, 2]\n",
    "result = find_mode(numbers)\n",
    "print(result)"
   ]
  },
  {
   "cell_type": "markdown",
   "id": "437683ea",
   "metadata": {},
   "source": [
    "27. Write a program to find the greatest common divisor (GCD) of two numbers."
   ]
  },
  {
   "cell_type": "code",
   "execution_count": 10,
   "id": "6efa3213",
   "metadata": {},
   "outputs": [
    {
     "name": "stdout",
     "output_type": "stream",
     "text": [
      "12\n"
     ]
    }
   ],
   "source": [
    "def gcd(a, b):\n",
    "    while b != 0:\n",
    "        a, b = b, a % b\n",
    "    return a\n",
    "number1 = 36\n",
    "number2 = 48\n",
    "\n",
    "result = gcd(number1, number2)\n",
    "print(result) "
   ]
  },
  {
   "cell_type": "markdown",
   "id": "bfc3b6e5",
   "metadata": {},
   "source": [
    "28. Implement a function to calculate the square root of a given number."
   ]
  },
  {
   "cell_type": "code",
   "execution_count": 2,
   "id": "f2f730e9",
   "metadata": {},
   "outputs": [
    {
     "data": {
      "text/plain": [
       "11.0"
      ]
     },
     "execution_count": 2,
     "metadata": {},
     "output_type": "execute_result"
    }
   ],
   "source": [
    "def square_root(number):\n",
    "    if number < 0:\n",
    "        raise ValueError(\"Square root is not defined for negative numbers.\")\n",
    "    \n",
    "    if number == 0:\n",
    "        return 0\n",
    "\n",
    "    guess = number / 2\n",
    "    while True:\n",
    "        new_guess = (guess + number / guess) / 2\n",
    "        if abs(new_guess - guess) < 0.0001:  # Adjust the precision as needed\n",
    "            return new_guess\n",
    "        guess = new_guess\n",
    "square_root(121)"
   ]
  },
  {
   "cell_type": "markdown",
   "id": "769dca41",
   "metadata": {},
   "source": [
    "29. Write a Python program to check if a given string is a valid palindrome ignoring non-alphanumeric characters."
   ]
  },
  {
   "cell_type": "code",
   "execution_count": 5,
   "id": "1c158ad7",
   "metadata": {},
   "outputs": [
    {
     "name": "stdout",
     "output_type": "stream",
     "text": [
      "True\n"
     ]
    }
   ],
   "source": [
    "import re\n",
    "\n",
    "def is_palindrome(string):\n",
    "    \n",
    "    cleaned_string = re.sub(r'[^a-zA-Z0-9]', '', string)\n",
    "\n",
    "    cleaned_string = cleaned_string.lower()\n",
    "\n",
    "    return cleaned_string == cleaned_string[::-1]\n",
    "\n",
    "input_string = \"A man, a plan, a canal, Panama!\"\n",
    "print(is_palindrome(input_string))  "
   ]
  },
  {
   "cell_type": "markdown",
   "id": "30ef0959",
   "metadata": {},
   "source": [
    "30. Implement a function to find the minimum element in a rotated sorted list."
   ]
  },
  {
   "cell_type": "code",
   "execution_count": 6,
   "id": "4072a59a",
   "metadata": {},
   "outputs": [
    {
     "name": "stdout",
     "output_type": "stream",
     "text": [
      "0\n"
     ]
    }
   ],
   "source": [
    "def find_min_element(nums):\n",
    "    left = 0\n",
    "    right = len(nums) - 1\n",
    "\n",
    "    while left < right:\n",
    "        mid = left + (right - left) // 2\n",
    "\n",
    "        if nums[mid] > nums[right]:\n",
    "            left = mid + 1\n",
    "        else:\n",
    "            right = mid\n",
    "\n",
    "    return nums[left]\n",
    "rotated_list = [4, 5, 6, 7, 0, 1, 2]\n",
    "print(find_min_element(rotated_list)) "
   ]
  },
  {
   "cell_type": "markdown",
   "id": "37a56e5d",
   "metadata": {},
   "source": [
    "31. Write a program to find the sum of all even numbers in a list."
   ]
  },
  {
   "cell_type": "code",
   "execution_count": 7,
   "id": "20dd9f47",
   "metadata": {},
   "outputs": [
    {
     "name": "stdout",
     "output_type": "stream",
     "text": [
      "30\n"
     ]
    }
   ],
   "source": [
    "def sum_even_numbers(numbers):\n",
    "    sum_even = 0\n",
    "\n",
    "    for num in numbers:\n",
    "        if num % 2 == 0:\n",
    "            sum_even += num\n",
    "\n",
    "    return sum_even\n",
    "number_list = [1, 2, 3, 4, 5, 6, 7, 8, 9, 10]\n",
    "print(sum_even_numbers(number_list)) "
   ]
  },
  {
   "cell_type": "markdown",
   "id": "6a02ad4d",
   "metadata": {},
   "source": [
    "32. Implement a function to calculate the power of a number using recursion."
   ]
  },
  {
   "cell_type": "code",
   "execution_count": 8,
   "id": "a9ba2832",
   "metadata": {},
   "outputs": [
    {
     "name": "stdout",
     "output_type": "stream",
     "text": [
      "8\n"
     ]
    }
   ],
   "source": [
    "def power(base, exponent):\n",
    "    if exponent == 0:\n",
    "        return 1\n",
    "    elif exponent > 0:\n",
    "        return base * power(base, exponent - 1)\n",
    "    else:\n",
    "        return 1 / (base * power(base, -exponent - 1))\n",
    "base = 2\n",
    "exponent = 3\n",
    "result = power(base, exponent)\n",
    "print(result) "
   ]
  },
  {
   "cell_type": "markdown",
   "id": "5e0becf3",
   "metadata": {},
   "source": [
    "33. Write a Python program to remove duplicates from a list while preserving the order."
   ]
  },
  {
   "cell_type": "code",
   "execution_count": 9,
   "id": "e597b659",
   "metadata": {},
   "outputs": [
    {
     "name": "stdout",
     "output_type": "stream",
     "text": [
      "[1, 2, 3, 4, 5, 6]\n"
     ]
    }
   ],
   "source": [
    "def remove_duplicates(lst):\n",
    "    unique_list = []\n",
    "    seen = set()\n",
    "\n",
    "    for item in lst:\n",
    "        if item not in seen:\n",
    "            unique_list.append(item)\n",
    "            seen.add(item)\n",
    "\n",
    "    return unique_list\n",
    "\n",
    "my_list = [1, 2, 3, 2, 4, 1, 5, 6, 3]\n",
    "result = remove_duplicates(my_list)\n",
    "print(result)  "
   ]
  },
  {
   "cell_type": "markdown",
   "id": "83c8679f",
   "metadata": {},
   "source": [
    "34. Implement a function to find the longest common prefix among a list of strings."
   ]
  },
  {
   "cell_type": "code",
   "execution_count": 10,
   "id": "513d86f1",
   "metadata": {},
   "outputs": [
    {
     "name": "stdout",
     "output_type": "stream",
     "text": [
      "fl\n"
     ]
    }
   ],
   "source": [
    "def longest_common_prefix(strs):\n",
    "    if not strs:\n",
    "        return \"\"\n",
    "\n",
    "    shortest = min(strs, key=len)\n",
    "\n",
    "    for i, char in enumerate(shortest):\n",
    "        for other in strs:\n",
    "            if other[i] != char:\n",
    "                return shortest[:i]\n",
    "\n",
    "    return shortest\n",
    "string_list = [\"flower\", \"flow\", \"flight\"]\n",
    "result = longest_common_prefix(string_list)\n",
    "print(result)  "
   ]
  },
  {
   "cell_type": "markdown",
   "id": "308e3103",
   "metadata": {},
   "source": [
    "35. Write a program to check if a given number is a perfect square."
   ]
  },
  {
   "cell_type": "code",
   "execution_count": 11,
   "id": "644ad65e",
   "metadata": {},
   "outputs": [
    {
     "name": "stdout",
     "output_type": "stream",
     "text": [
      "True\n"
     ]
    }
   ],
   "source": [
    "def is_perfect_square(number):\n",
    "    if number < 0:\n",
    "        return False\n",
    "\n",
    "    if number == 0:\n",
    "        return True\n",
    "\n",
    "    left = 1\n",
    "    right = number\n",
    "\n",
    "    while left <= right:\n",
    "        mid = left + (right - left) // 2\n",
    "        square = mid * mid\n",
    "\n",
    "        if square == number:\n",
    "            return True\n",
    "        elif square < number:\n",
    "            left = mid + 1\n",
    "        else:\n",
    "            right = mid - 1\n",
    "\n",
    "    return False\n",
    "\n",
    "num = 16\n",
    "result = is_perfect_square(num)\n",
    "print(result)  "
   ]
  },
  {
   "cell_type": "markdown",
   "id": "2f3b4cb4",
   "metadata": {},
   "source": [
    "36. Implement a function to calculate the product of all elements in a list."
   ]
  },
  {
   "cell_type": "code",
   "execution_count": 12,
   "id": "8b5f7801",
   "metadata": {},
   "outputs": [
    {
     "name": "stdout",
     "output_type": "stream",
     "text": [
      "120\n"
     ]
    }
   ],
   "source": [
    "def calculate_product(lst):\n",
    "    product = 1\n",
    "\n",
    "    for num in lst:\n",
    "        product *= num\n",
    "\n",
    "    return product\n",
    "number_list = [1, 2, 3, 4, 5]\n",
    "result = calculate_product(number_list)\n",
    "print(result) "
   ]
  },
  {
   "cell_type": "markdown",
   "id": "fe61c1e2",
   "metadata": {},
   "source": [
    "37. Write a Python program to reverse the order of words in a sentence while preserving the word order"
   ]
  },
  {
   "cell_type": "code",
   "execution_count": 13,
   "id": "6909a1cb",
   "metadata": {},
   "outputs": [
    {
     "name": "stdout",
     "output_type": "stream",
     "text": [
      "you? are how Hello,\n"
     ]
    }
   ],
   "source": [
    "def reverse_sentence(sentence):\n",
    "    words = sentence.split()\n",
    "    reversed_words = words[::-1]\n",
    "    reversed_sentence = \" \".join(reversed_words)\n",
    "    return reversed_sentence\n",
    "\n",
    "input_sentence = \"Hello, how are you?\"\n",
    "reversed_sentence = reverse_sentence(input_sentence)\n",
    "print(reversed_sentence)  "
   ]
  },
  {
   "cell_type": "markdown",
   "id": "5c8d3e81",
   "metadata": {},
   "source": [
    "38. Implement a function to find the missing number in a given list of consecutive numbers."
   ]
  },
  {
   "cell_type": "code",
   "execution_count": 14,
   "id": "59045939",
   "metadata": {},
   "outputs": [
    {
     "name": "stdout",
     "output_type": "stream",
     "text": [
      "4\n"
     ]
    }
   ],
   "source": [
    "def find_missing_number(numbers):\n",
    "    n = len(numbers) + 1\n",
    "    expected_sum = (n * (n + 1)) // 2\n",
    "    actual_sum = sum(numbers)\n",
    "    missing_number = expected_sum - actual_sum\n",
    "    return missing_number\n",
    "\n",
    "number_list = [1, 2, 3, 5, 6, 7, 8]\n",
    "missing_number = find_missing_number(number_list)\n",
    "print(missing_number) "
   ]
  },
  {
   "cell_type": "markdown",
   "id": "a5e76caf",
   "metadata": {},
   "source": [
    "39. Write a program to find the sum of digits of a given number."
   ]
  },
  {
   "cell_type": "code",
   "execution_count": 15,
   "id": "475587f1",
   "metadata": {},
   "outputs": [
    {
     "name": "stdout",
     "output_type": "stream",
     "text": [
      "15\n"
     ]
    }
   ],
   "source": [
    "def sum_of_digits(number):\n",
    "    \n",
    "    number_str = str(number)\n",
    "\n",
    "    digit_sum = 0\n",
    "\n",
    "    for digit in number_str:\n",
    "        digit_sum += int(digit)\n",
    "\n",
    "    return digit_sum\n",
    "\n",
    "num = 12345\n",
    "result = sum_of_digits(num)\n",
    "print(result)  "
   ]
  },
  {
   "cell_type": "markdown",
   "id": "a1553977",
   "metadata": {},
   "source": [
    "40. Implement a function to check if a given string is a valid palindrome considering case sensitivity."
   ]
  },
  {
   "cell_type": "code",
   "execution_count": 16,
   "id": "f123de13",
   "metadata": {},
   "outputs": [
    {
     "name": "stdout",
     "output_type": "stream",
     "text": [
      "False\n"
     ]
    }
   ],
   "source": [
    "def is_palindrome(string):\n",
    "    \n",
    "    return string == string[::-1]\n",
    "input_string = \"Madam\"\n",
    "result = is_palindrome(input_string)\n",
    "print(result)  "
   ]
  },
  {
   "cell_type": "markdown",
   "id": "0ad58a14",
   "metadata": {},
   "source": [
    "41. Write a Python program to find the smallest missing positive integer in a list."
   ]
  },
  {
   "cell_type": "code",
   "execution_count": 17,
   "id": "41821d1d",
   "metadata": {},
   "outputs": [
    {
     "name": "stdout",
     "output_type": "stream",
     "text": [
      "3\n"
     ]
    }
   ],
   "source": [
    "def find_smallest_missing_positive(nums):\n",
    "    n = len(nums)\n",
    "\n",
    "    for i in range(n):\n",
    "        if nums[i] <= 0:\n",
    "            nums[i] = 0\n",
    "\n",
    "    for i in range(n):\n",
    "        num = abs(nums[i])\n",
    "        if num <= n:\n",
    "            nums[num - 1] = -abs(nums[num - 1])\n",
    "\n",
    "    for i in range(n):\n",
    "        if nums[i] >= 0:\n",
    "            return i + 1\n",
    "    return n + 1\n",
    "\n",
    "number_list = [3, 1, -1, 5, 2]\n",
    "result = find_smallest_missing_positive(number_list)\n",
    "print(result)  "
   ]
  },
  {
   "cell_type": "markdown",
   "id": "d6947c68",
   "metadata": {},
   "source": [
    "42. Implement a function to find the longest palindrome substring in a given string."
   ]
  },
  {
   "cell_type": "code",
   "execution_count": 18,
   "id": "3e1f0c02",
   "metadata": {},
   "outputs": [
    {
     "name": "stdout",
     "output_type": "stream",
     "text": [
      "aba\n"
     ]
    }
   ],
   "source": [
    "def longest_palindrome(s):\n",
    "    if len(s) <= 1:\n",
    "        return s\n",
    "\n",
    "    start = 0\n",
    "    end = 0\n",
    "\n",
    "    for i in range(len(s)):\n",
    "        len1 = expand_from_center(s, i, i)\n",
    "        len2 = expand_from_center(s, i, i + 1)\n",
    "        length = max(len1, len2)\n",
    "\n",
    "        if length > end - start:\n",
    "            start = i - (length - 1) // 2\n",
    "            end = i + length // 2\n",
    "\n",
    "    return s[start:end+1]\n",
    "\n",
    "def expand_from_center(s, left, right):\n",
    "    while left >= 0 and right < len(s) and s[left] == s[right]:\n",
    "        left -= 1\n",
    "        right += 1\n",
    "\n",
    "    return right - left - 1\n",
    "input_string = \"babad\"\n",
    "result = longest_palindrome(input_string)\n",
    "print(result)  "
   ]
  },
  {
   "cell_type": "markdown",
   "id": "06fb702a",
   "metadata": {},
   "source": [
    "43. Write a program to find the number of occurrences of a given element in a list."
   ]
  },
  {
   "cell_type": "code",
   "execution_count": 19,
   "id": "f06ab1ca",
   "metadata": {},
   "outputs": [
    {
     "name": "stdout",
     "output_type": "stream",
     "text": [
      "3\n"
     ]
    }
   ],
   "source": [
    "def count_occurrences(lst, target):\n",
    "    count = 0\n",
    "\n",
    "    for item in lst:\n",
    "        if item == target:\n",
    "            count += 1\n",
    "\n",
    "    return count\n",
    "\n",
    "number_list = [1, 2, 3, 4, 2, 2, 5]\n",
    "target_number = 2\n",
    "result = count_occurrences(number_list, target_number)\n",
    "print(result) "
   ]
  },
  {
   "cell_type": "markdown",
   "id": "cd40c747",
   "metadata": {},
   "source": [
    "44. Implement a function to check if a given number is a perfect number."
   ]
  },
  {
   "cell_type": "code",
   "execution_count": 20,
   "id": "7ee017ee",
   "metadata": {},
   "outputs": [
    {
     "name": "stdout",
     "output_type": "stream",
     "text": [
      "True\n"
     ]
    }
   ],
   "source": [
    "def is_perfect_number(number):\n",
    "    if number <= 0:\n",
    "        return False\n",
    "\n",
    "    divisor_sum = 0\n",
    "\n",
    "    for i in range(1, number):\n",
    "        if number % i == 0:\n",
    "            divisor_sum += i\n",
    "\n",
    "    return divisor_sum == number\n",
    "num = 28\n",
    "result = is_perfect_number(num)\n",
    "print(result)  "
   ]
  },
  {
   "cell_type": "markdown",
   "id": "ddf6afe6",
   "metadata": {},
   "source": [
    "45. Write a Python program to remove all duplicates from a string."
   ]
  },
  {
   "cell_type": "code",
   "execution_count": 21,
   "id": "b278f690",
   "metadata": {},
   "outputs": [
    {
     "name": "stdout",
     "output_type": "stream",
     "text": [
      "Helo, Wrd!\n"
     ]
    }
   ],
   "source": [
    "def remove_duplicates(string):\n",
    "    unique_chars = []\n",
    "    result = \"\"\n",
    "\n",
    "    for char in string:\n",
    "        if char not in unique_chars:\n",
    "            unique_chars.append(char)\n",
    "            result += char\n",
    "\n",
    "    return result\n",
    "input_string = \"Hello, World!\"\n",
    "result = remove_duplicates(input_string)\n",
    "print(result)  "
   ]
  },
  {
   "cell_type": "markdown",
   "id": "519e38e0",
   "metadata": {},
   "source": [
    "46. Implement a function to find the first missing positive"
   ]
  },
  {
   "cell_type": "code",
   "execution_count": 22,
   "id": "dbd39a29",
   "metadata": {},
   "outputs": [
    {
     "name": "stdout",
     "output_type": "stream",
     "text": [
      "2\n"
     ]
    }
   ],
   "source": [
    "def find_first_missing_positive(nums):\n",
    "    n = len(nums)\n",
    "\n",
    "    i = 0\n",
    "    while i < n:\n",
    "        if 1 <= nums[i] <= n and nums[i] != nums[nums[i] - 1]:\n",
    "            nums[nums[i] - 1], nums[i] = nums[i], nums[nums[i] - 1]\n",
    "        else:\n",
    "            i += 1\n",
    "\n",
    "    for i in range(n):\n",
    "        if nums[i] != i + 1:\n",
    "            return i + 1\n",
    "    return n + 1\n",
    "\n",
    "number_list = [3, 4, -1, 1]\n",
    "result = find_first_missing_positive(number_list)\n",
    "print(result)  "
   ]
  }
 ],
 "metadata": {
  "kernelspec": {
   "display_name": "Python 3 (ipykernel)",
   "language": "python",
   "name": "python3"
  },
  "language_info": {
   "codemirror_mode": {
    "name": "ipython",
    "version": 3
   },
   "file_extension": ".py",
   "mimetype": "text/x-python",
   "name": "python",
   "nbconvert_exporter": "python",
   "pygments_lexer": "ipython3",
   "version": "3.9.12"
  }
 },
 "nbformat": 4,
 "nbformat_minor": 5
}
